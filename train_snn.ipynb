{
  "nbformat": 4,
  "nbformat_minor": 0,
  "metadata": {
    "colab": {
      "provenance": [],
      "gpuType": "T4"
    },
    "kernelspec": {
      "name": "python3",
      "display_name": "Python 3"
    },
    "language_info": {
      "name": "python"
    },
    "accelerator": "GPU"
  },
  "cells": [
    {
      "cell_type": "code",
      "execution_count": null,
      "metadata": {
        "id": "A11na1XUJs1Q"
      },
      "outputs": [],
      "source": []
    },
    {
      "cell_type": "code",
      "source": [
        "from google.colab import drive\n",
        "drive.mount('/content/drive')"
      ],
      "metadata": {
        "colab": {
          "base_uri": "https://localhost:8080/"
        },
        "id": "9MyowA4EKCFL",
        "outputId": "49dd85d0-0921-493c-dcbf-1c8deaa706cf"
      },
      "execution_count": null,
      "outputs": [
        {
          "output_type": "stream",
          "name": "stdout",
          "text": [
            "Drive already mounted at /content/drive; to attempt to forcibly remount, call drive.mount(\"/content/drive\", force_remount=True).\n"
          ]
        }
      ]
    },
    {
      "cell_type": "code",
      "source": [
        "!pip install torch>=1.9.0 snntorch>=0.6.0 numpy>=1.20.0 matplotlib>=3.4.0 scikit-learn>=0.24.0 tqdm>=4.60.0 seaborn>=0.11.0 pandas>=1.3.0 scipy>=1.7.0 argparse>=1.1\n"
      ],
      "metadata": {
        "id": "mG9Wa1FELDKW"
      },
      "execution_count": null,
      "outputs": []
    },
    {
      "cell_type": "code",
      "source": [
        "# Install required packages first\n",
        "!pip install spikingjelly torch torchvision matplotlib scikit-learn tqdm numpy\n",
        "\n",
        "# Mount Google Drive\n",
        "from google.colab import drive\n",
        "drive.mount('/content/drive')\n",
        "\n",
        "import os\n",
        "import time\n",
        "import numpy as np\n",
        "import matplotlib.pyplot as plt\n",
        "from sklearn.model_selection import train_test_split\n",
        "from sklearn.metrics import accuracy_score, precision_score, recall_score, f1_score, confusion_matrix, roc_curve, auc\n",
        "import torch\n",
        "import torch.nn as nn\n",
        "import torch.optim as optim\n",
        "from torch.utils.data import DataLoader, Dataset, WeightedRandomSampler\n",
        "from spikingjelly.clock_driven import neuron, functional, surrogate, layer\n",
        "from tqdm import tqdm\n",
        "import gc\n",
        "from torch.cuda.amp import autocast, GradScaler  # For mixed precision training\n",
        "\n",
        "# Set random seeds for reproducibility\n",
        "np.random.seed(42)\n",
        "torch.manual_seed(42)\n",
        "torch.cuda.manual_seed_all(42)\n",
        "\n",
        "# Get GPU info and optimize settings\n",
        "if torch.cuda.is_available():\n",
        "    torch.backends.cudnn.benchmark = True  # Optimize cudnn\n",
        "    torch.backends.cudnn.deterministic = False  # Allow non-deterministic ops for speed\n",
        "    print(f\"Using GPU: {torch.cuda.get_device_name(0)}\")\n",
        "    print(f\"Memory allocated: {torch.cuda.memory_allocated(0) / 1e9:.2f} GB\")\n",
        "    print(f\"Memory cached: {torch.cuda.memory_cached(0) / 1e9:.2f} GB\")\n",
        "else:\n",
        "    print(\"No GPU available, using CPU\")\n",
        "\n",
        "device = torch.device('cuda' if torch.cuda.is_available() else 'cpu')\n",
        "print(f\"Using device: {device}\")\n",
        "\n",
        "# Check if data directory exists\n",
        "data_dir = '/content/drive/MyDrive/snn'\n",
        "if not os.path.exists(data_dir):\n",
        "    print(f\"Data directory {data_dir} not found!\")\n",
        "    print(\"Available directories in MyDrive:\")\n",
        "    mydrive_path = '/content/drive/MyDrive'\n",
        "    if os.path.exists(mydrive_path):\n",
        "        for item in os.listdir(mydrive_path):\n",
        "            print(f\"  - {item}\")\n",
        "    else:\n",
        "        print(\"MyDrive not found. Make sure Google Drive is mounted correctly.\")\n",
        "else:\n",
        "    print(f\"Data directory found: {data_dir}\")\n",
        "    npz_files = [f for f in os.listdir(data_dir) if f.endswith('.npz')]\n",
        "    print(f\"Found {len(npz_files)} .npz files\")\n",
        "\n",
        "class OptimizedEEGDataset(Dataset):\n",
        "    \"\"\"\n",
        "    Memory-efficient dataset that uses smart sampling for faster training\n",
        "    \"\"\"\n",
        "    def __init__(self, data_dir, files_to_use=None, subsample_factor=4, max_samples_per_class=8000, max_files=60):\n",
        "        self.data_dir = data_dir\n",
        "        self.subsample_factor = subsample_factor\n",
        "\n",
        "        # Get list of .npz files\n",
        "        all_files = [f for f in os.listdir(data_dir) if f.endswith('.npz')]\n",
        "        print(f\"Found {len(all_files)} .npz files in {data_dir}\")\n",
        "\n",
        "        # Limit the number of files if needed\n",
        "        if max_files and max_files < len(all_files):\n",
        "            print(f\"Using {max_files} out of {len(all_files)} files to limit processing time\")\n",
        "            np.random.shuffle(all_files)  # Randomly select files\n",
        "            self.file_list = all_files[:max_files]\n",
        "        else:\n",
        "            self.file_list = all_files\n",
        "\n",
        "        if files_to_use:\n",
        "            self.file_list = [f for f in self.file_list if f in files_to_use]\n",
        "\n",
        "        # Initialize lists to store data\n",
        "        self.X_list = []\n",
        "        self.y_list = []\n",
        "        self.sample_weights = []\n",
        "        self.class_counts = {0: 0, 1: 0}\n",
        "\n",
        "        # Track existing class samples\n",
        "        class0_samples = 0\n",
        "        class1_samples = 0\n",
        "\n",
        "        print(\"Loading data with smart sampling...\")\n",
        "        for file_idx, file_name in enumerate(tqdm(self.file_list)):\n",
        "            # Break if we already have enough samples from each class\n",
        "            if class0_samples >= max_samples_per_class and class1_samples >= max_samples_per_class:\n",
        "                print(f\"Reached sample target: {class0_samples} samples of class 0, {class1_samples} samples of class 1\")\n",
        "                break\n",
        "\n",
        "            try:\n",
        "                file_path = os.path.join(data_dir, file_name)\n",
        "\n",
        "                # Load data with memory mapping\n",
        "                with np.load(file_path, mmap_mode='r') as data:\n",
        "                    # Check what keys are available in the file\n",
        "                    if file_idx == 0:  # Print keys for first file to debug\n",
        "                        print(f\"Keys in {file_name}: {list(data.keys())}\")\n",
        "\n",
        "                    # Try different possible key names for data and labels\n",
        "                    X_key = None\n",
        "                    y_key = None\n",
        "\n",
        "                    # Common key names for EEG data\n",
        "                    possible_X_keys = ['X', 'data', 'eeg_data', 'signals', 'features']\n",
        "                    possible_y_keys = ['y', 'labels', 'targets', 'annotations', 'seizure']\n",
        "\n",
        "                    for key in possible_X_keys:\n",
        "                        if key in data.keys():\n",
        "                            X_key = key\n",
        "                            break\n",
        "\n",
        "                    for key in possible_y_keys:\n",
        "                        if key in data.keys():\n",
        "                            y_key = key\n",
        "                            break\n",
        "\n",
        "                    if X_key is None or y_key is None:\n",
        "                        print(f\"Warning: Could not find data keys in {file_name}. Available keys: {list(data.keys())}\")\n",
        "                        continue\n",
        "\n",
        "                    # Get metadata\n",
        "                    X_shape = data[X_key].shape\n",
        "                    y_raw = data[y_key]\n",
        "\n",
        "                    # Convert labels to binary (assuming seizure detection: 0=no seizure, 1=seizure)\n",
        "                    if len(np.unique(y_raw)) > 2:\n",
        "                        # Multi-class to binary conversion\n",
        "                        y_binary = (y_raw > 0).astype(int)\n",
        "                    else:\n",
        "                        y_binary = y_raw.astype(int)\n",
        "\n",
        "                    # Count samples by class\n",
        "                    file_class_counts = np.bincount(y_binary.astype(int), minlength=2)\n",
        "\n",
        "                    # Determine how many samples to include from each class in this file\n",
        "                    class0_to_include = min(file_class_counts[0], max(0, max_samples_per_class - class0_samples))\n",
        "                    class1_to_include = min(file_class_counts[1], max(0, max_samples_per_class - class1_samples))\n",
        "\n",
        "                    if class0_to_include == 0 and class1_to_include == 0:\n",
        "                        continue\n",
        "\n",
        "                    # Find indices for each class\n",
        "                    class0_indices = np.where(y_binary == 0)[0]\n",
        "                    class1_indices = np.where(y_binary == 1)[0]\n",
        "\n",
        "                    # Randomly sample from each class\n",
        "                    if class0_to_include > 0 and len(class0_indices) > 0:\n",
        "                        if class0_to_include < len(class0_indices):\n",
        "                            selected_class0 = np.random.choice(class0_indices, class0_to_include, replace=False)\n",
        "                        else:\n",
        "                            selected_class0 = class0_indices\n",
        "                    else:\n",
        "                        selected_class0 = np.array([], dtype=int)\n",
        "\n",
        "                    if class1_to_include > 0 and len(class1_indices) > 0:\n",
        "                        if class1_to_include < len(class1_indices):\n",
        "                            selected_class1 = np.random.choice(class1_indices, class1_to_include, replace=False)\n",
        "                        else:\n",
        "                            selected_class1 = class1_indices\n",
        "                    else:\n",
        "                        selected_class1 = np.array([], dtype=int)\n",
        "\n",
        "                    # Combine selected indices\n",
        "                    selected_indices = np.concatenate([selected_class0, selected_class1])\n",
        "\n",
        "                    if len(selected_indices) == 0:\n",
        "                        continue\n",
        "\n",
        "                    # Load and process selected samples\n",
        "                    X_samples = data[X_key][selected_indices]\n",
        "                    y_samples = y_binary[selected_indices]\n",
        "\n",
        "                    # Handle different data shapes\n",
        "                    if len(X_samples.shape) == 2:\n",
        "                        # If 2D, assume it's (samples, features) and reshape for CNN\n",
        "                        # You might need to adjust this based on your actual data structure\n",
        "                        n_samples, n_features = X_samples.shape\n",
        "                        # Reshape to (samples, channels, height, width) for CNN\n",
        "                        # This is a basic reshape - you may need to adjust based on your data\n",
        "                        side_length = int(np.sqrt(n_features))\n",
        "                        if side_length * side_length == n_features:\n",
        "                            X_samples = X_samples.reshape(n_samples, 1, side_length, side_length)\n",
        "                        else:\n",
        "                            # If not square, pad or truncate\n",
        "                            target_size = 64  # Adjust based on your needs\n",
        "                            if n_features > target_size * target_size:\n",
        "                                X_samples = X_samples[:, :target_size*target_size]\n",
        "                            else:\n",
        "                                # Pad with zeros\n",
        "                                padding = target_size * target_size - n_features\n",
        "                                X_samples = np.pad(X_samples, ((0, 0), (0, padding)), mode='constant')\n",
        "                            X_samples = X_samples.reshape(n_samples, 1, target_size, target_size)\n",
        "\n",
        "                    elif len(X_samples.shape) == 3:\n",
        "                        # Already 3D, add channel dimension if needed\n",
        "                        if X_samples.shape[1] > X_samples.shape[2]:  # Likely (samples, time, channels)\n",
        "                            X_samples = X_samples.transpose(0, 2, 1)  # -> (samples, channels, time)\n",
        "                            # Add spatial dimension\n",
        "                            X_samples = X_samples[:, :, :, np.newaxis]\n",
        "                        else:\n",
        "                            X_samples = X_samples[:, np.newaxis, :, :]  # Add channel dimension\n",
        "\n",
        "                    elif len(X_samples.shape) == 4:\n",
        "                        # Already 4D, good to go\n",
        "                        pass\n",
        "\n",
        "                    else:\n",
        "                        print(f\"Warning: Unexpected data shape {X_samples.shape} in {file_name}\")\n",
        "                        continue\n",
        "\n",
        "                    # Subsample to reduce dimensionality (only if 4D)\n",
        "                    if len(X_samples.shape) == 4 and X_samples.shape[2] > 1 and X_samples.shape[3] > 1:\n",
        "                        X_samples = X_samples[:, :, ::self.subsample_factor, ::self.subsample_factor]\n",
        "\n",
        "                    # Pre-normalize data (faster training)\n",
        "                    for i in range(len(X_samples)):\n",
        "                        X_min = X_samples[i].min()\n",
        "                        X_max = X_samples[i].max()\n",
        "                        X_range = X_max - X_min\n",
        "                        if X_range > 0:\n",
        "                            X_samples[i] = (X_samples[i] - X_min) / X_range\n",
        "\n",
        "                    # Add to our lists\n",
        "                    self.X_list.append(X_samples)\n",
        "                    self.y_list.append(y_samples)\n",
        "\n",
        "                    # Update counts\n",
        "                    class0_samples += len(np.where(y_samples == 0)[0])\n",
        "                    class1_samples += len(np.where(y_samples == 1)[0])\n",
        "\n",
        "                    # Update class counts\n",
        "                    self.class_counts[0] += len(np.where(y_samples == 0)[0])\n",
        "                    self.class_counts[1] += len(np.where(y_samples == 1)[0])\n",
        "\n",
        "                    print(f\"Loaded {file_name}: {len(X_samples)} samples - Now have {class0_samples} class 0 and {class1_samples} class 1\")\n",
        "\n",
        "            except Exception as e:\n",
        "                print(f\"Warning: Error processing {file_name}: {e}\")\n",
        "\n",
        "        # Concatenate all samples\n",
        "        print(\"Concatenating samples...\")\n",
        "        self.X = np.concatenate(self.X_list, axis=0) if self.X_list else np.array([])\n",
        "        self.y = np.concatenate(self.y_list, axis=0) if self.y_list else np.array([])\n",
        "\n",
        "        if len(self.X) == 0:\n",
        "            raise ValueError(\"No data was loaded. Please check your data files and keys.\")\n",
        "\n",
        "        # Calculate class weights for balanced sampling\n",
        "        total = self.class_counts[0] + self.class_counts[1]\n",
        "        class_weights = {\n",
        "            0: total / (2 * self.class_counts[0]) if self.class_counts[0] > 0 else 0,\n",
        "            1: total / (2 * self.class_counts[1]) if self.class_counts[1] > 0 else 0\n",
        "        }\n",
        "\n",
        "        # Create sample weights array\n",
        "        for label in self.y:\n",
        "            self.sample_weights.append(class_weights[int(label)])\n",
        "\n",
        "        print(f\"Dataset contains {len(self.X)} samples\")\n",
        "        print(f\"Data shape: {self.X.shape}\")\n",
        "        print(f\"Class distribution: Class 0: {self.class_counts[0]}, Class 1: {self.class_counts[1]}\")\n",
        "        print(f\"Class weights: {class_weights}\")\n",
        "\n",
        "        # Convert to torch tensors right away (avoid repeated conversion)\n",
        "        self.X_tensor = torch.FloatTensor(self.X)\n",
        "        self.y_tensor = torch.FloatTensor(self.y).unsqueeze(1)\n",
        "\n",
        "    def __len__(self):\n",
        "        return len(self.X)\n",
        "\n",
        "    def __getitem__(self, idx):\n",
        "        return self.X_tensor[idx], self.y_tensor[idx]\n",
        "\n",
        "\n",
        "class FastEEGSpikingNet(nn.Module):\n",
        "    def __init__(self, input_shape, hidden_units=192, output_units=1):\n",
        "        super().__init__()\n",
        "\n",
        "        # Calculate flattened input size\n",
        "        self.input_size = np.prod(input_shape[1:])  # Exclude batch dimension\n",
        "\n",
        "        # Spiking network layers optimized for speed\n",
        "        self.flatten = nn.Flatten()\n",
        "\n",
        "        # First block\n",
        "        self.fc1 = nn.Linear(self.input_size, hidden_units)\n",
        "        self.bn1 = nn.BatchNorm1d(hidden_units)\n",
        "        self.dropout1 = nn.Dropout(0.3)\n",
        "        self.lif1 = neuron.LIFNode(surrogate_function=surrogate.ATan(), tau=2.0)\n",
        "\n",
        "        # Second block with residual connection\n",
        "        self.fc2 = nn.Linear(hidden_units, hidden_units)\n",
        "        self.bn2 = nn.BatchNorm1d(hidden_units)\n",
        "        self.dropout2 = nn.Dropout(0.2)\n",
        "        self.lif2 = neuron.LIFNode(surrogate_function=surrogate.ATan(), tau=2.0)\n",
        "\n",
        "        # Output layer - direct connection to improve gradient flow\n",
        "        self.fc_out = nn.Linear(hidden_units, output_units)\n",
        "        self.sigmoid = nn.Sigmoid()\n",
        "\n",
        "    def forward(self, x):\n",
        "        # Flatten input\n",
        "        x = self.flatten(x)\n",
        "\n",
        "        # First block\n",
        "        x = self.fc1(x)\n",
        "        x = self.bn1(x)\n",
        "        x = self.dropout1(x)\n",
        "        x = self.lif1(x)\n",
        "        residual = x  # Save for residual connection\n",
        "\n",
        "        # Second block with residual connection\n",
        "        x = self.fc2(x)\n",
        "        x = self.bn2(x)\n",
        "        x = self.dropout2(x)\n",
        "        x = self.lif2(x)\n",
        "        x = x + residual  # Add residual connection\n",
        "\n",
        "        # Output layer\n",
        "        x = self.fc_out(x)\n",
        "        x = self.sigmoid(x)\n",
        "\n",
        "        return x\n",
        "\n",
        "\n",
        "def create_data_loaders(dataset, val_size=0.1, test_size=0.2, batch_size=64):\n",
        "    \"\"\"Create train/val/test data loaders with weighted sampling\"\"\"\n",
        "    # Split data into train/val/test\n",
        "    X_train_val, X_test, y_train_val, y_test = train_test_split(\n",
        "        dataset.X_tensor, dataset.y_tensor, test_size=test_size, random_state=42,\n",
        "        stratify=dataset.y_tensor.squeeze()\n",
        "    )\n",
        "\n",
        "    val_ratio = val_size / (1 - test_size)\n",
        "    X_train, X_val, y_train, y_val = train_test_split(\n",
        "        X_train_val, y_train_val, test_size=val_ratio, random_state=42,\n",
        "        stratify=y_train_val.squeeze()\n",
        "    )\n",
        "\n",
        "    # Create weighted sampler for training data\n",
        "    y_train_np = y_train.squeeze().numpy()\n",
        "    class_counts = {0: np.sum(y_train_np == 0), 1: np.sum(y_train_np == 1)}\n",
        "    total = len(y_train_np)\n",
        "    class_weights = {\n",
        "        cls: total / (2 * count) if count > 0 else 0\n",
        "        for cls, count in class_counts.items()\n",
        "    }\n",
        "    sample_weights = [class_weights[int(y)] for y in y_train_np]\n",
        "\n",
        "    train_sampler = WeightedRandomSampler(\n",
        "        weights=sample_weights,\n",
        "        num_samples=len(y_train),\n",
        "        replacement=True\n",
        "    )\n",
        "\n",
        "    # Create datasets and data loaders\n",
        "    train_dataset = torch.utils.data.TensorDataset(X_train, y_train)\n",
        "    val_dataset = torch.utils.data.TensorDataset(X_val, y_val)\n",
        "    test_dataset = torch.utils.data.TensorDataset(X_test, y_test)\n",
        "\n",
        "    # Use multiple workers for faster data loading\n",
        "    num_workers = 2  # Colab can handle a few workers\n",
        "    pin_memory = True if torch.cuda.is_available() else False\n",
        "\n",
        "    train_loader = DataLoader(\n",
        "        train_dataset, batch_size=batch_size, sampler=train_sampler,\n",
        "        num_workers=num_workers, pin_memory=pin_memory\n",
        "    )\n",
        "    val_loader = DataLoader(\n",
        "        val_dataset, batch_size=batch_size, shuffle=False,\n",
        "        num_workers=num_workers, pin_memory=pin_memory\n",
        "    )\n",
        "    test_loader = DataLoader(\n",
        "        test_dataset, batch_size=batch_size, shuffle=False,\n",
        "        num_workers=num_workers, pin_memory=pin_memory\n",
        "    )\n",
        "\n",
        "    return train_loader, val_loader, test_loader\n",
        "\n",
        "\n",
        "def fast_train_model(model, train_loader, val_loader, epochs=20, learning_rate=0.001, time_limit_minutes=50):\n",
        "    \"\"\"Train the SNN model using mixed precision for faster training\"\"\"\n",
        "    criterion = nn.BCELoss()\n",
        "    optimizer = optim.AdamW(model.parameters(), lr=learning_rate, weight_decay=1e-5)\n",
        "\n",
        "    # Learning rate scheduler\n",
        "    scheduler = optim.lr_scheduler.ReduceLROnPlateau(\n",
        "        optimizer, mode='min', factor=0.5, patience=3, verbose=True, min_lr=1e-5\n",
        "    )\n",
        "\n",
        "    # Initialize gradient scaler for mixed precision training\n",
        "    scaler = GradScaler()\n",
        "\n",
        "    # For early stopping\n",
        "    best_val_loss = float('inf')\n",
        "    patience = 6\n",
        "    patience_counter = 0\n",
        "    best_model_state = None\n",
        "\n",
        "    # Track training metrics\n",
        "    history = {\n",
        "        'train_losses': [],\n",
        "        'val_losses': [],\n",
        "        'train_accuracies': [],\n",
        "        'val_accuracies': [],\n",
        "        'epochs_completed': 0,\n",
        "    }\n",
        "\n",
        "    start_time_total = time.time()\n",
        "    time_limit_seconds = time_limit_minutes * 60\n",
        "\n",
        "    # Training loop\n",
        "    for epoch in range(epochs):\n",
        "        start_time = time.time()\n",
        "\n",
        "        # Training phase\n",
        "        model.train()\n",
        "        train_loss = 0.0\n",
        "        train_correct = 0\n",
        "        train_total = 0\n",
        "\n",
        "        progress_bar = tqdm(train_loader, desc=f\"Epoch {epoch+1}/{epochs} [Train]\")\n",
        "        for inputs, labels in progress_bar:\n",
        "            inputs, labels = inputs.to(device), labels.to(device)\n",
        "\n",
        "            # Zero gradients\n",
        "            optimizer.zero_grad()\n",
        "\n",
        "            # Forward pass with mixed precision\n",
        "            with autocast():\n",
        "                outputs = model(inputs)\n",
        "                loss = criterion(outputs, labels)\n",
        "\n",
        "            # Backward and optimize with scaled gradients\n",
        "            scaler.scale(loss).backward()\n",
        "\n",
        "            # Gradient clipping\n",
        "            scaler.unscale_(optimizer)\n",
        "            torch.nn.utils.clip_grad_norm_(model.parameters(), max_norm=1.0)\n",
        "\n",
        "            # Update weights with scaled gradients\n",
        "            scaler.step(optimizer)\n",
        "            scaler.update()\n",
        "\n",
        "            # Statistics\n",
        "            train_loss += loss.item() * inputs.size(0)\n",
        "            predicted = torch.round(outputs)\n",
        "            train_correct += (predicted == labels).sum().item()\n",
        "            train_total += labels.size(0)\n",
        "\n",
        "            # Reset neuron states\n",
        "            functional.reset_net(model)\n",
        "\n",
        "            # Update progress bar\n",
        "            progress_bar.set_postfix({\n",
        "                'loss': f\"{loss.item():.4f}\",\n",
        "                'acc': f\"{(predicted == labels).sum().item() / labels.size(0):.4f}\"\n",
        "            })\n",
        "\n",
        "        # Calculate epoch training loss and accuracy\n",
        "        epoch_train_loss = train_loss / train_total\n",
        "        epoch_train_acc = train_correct / train_total\n",
        "        history['train_losses'].append(epoch_train_loss)\n",
        "        history['train_accuracies'].append(epoch_train_acc)\n",
        "\n",
        "        # Validation phase\n",
        "        model.eval()\n",
        "        val_loss = 0.0\n",
        "        val_correct = 0\n",
        "        val_total = 0\n",
        "\n",
        "        with torch.no_grad():\n",
        "            progress_bar = tqdm(val_loader, desc=f\"Epoch {epoch+1}/{epochs} [Val]\")\n",
        "            for inputs, labels in progress_bar:\n",
        "                inputs, labels = inputs.to(device), labels.to(device)\n",
        "\n",
        "                # Forward pass without mixed precision\n",
        "                outputs = model(inputs)\n",
        "                loss = criterion(outputs, labels)\n",
        "\n",
        "                # Statistics\n",
        "                val_loss += loss.item() * inputs.size(0)\n",
        "                predicted = torch.round(outputs)\n",
        "                val_correct += (predicted == labels).sum().item()\n",
        "                val_total += labels.size(0)\n",
        "\n",
        "                # Reset neuron states\n",
        "                functional.reset_net(model)\n",
        "\n",
        "                # Update progress bar\n",
        "                progress_bar.set_postfix({\n",
        "                    'loss': f\"{loss.item():.4f}\",\n",
        "                    'acc': f\"{(predicted == labels).sum().item() / labels.size(0):.4f}\"\n",
        "                })\n",
        "\n",
        "        # Calculate epoch validation loss and accuracy\n",
        "        epoch_val_loss = val_loss / val_total\n",
        "        epoch_val_acc = val_correct / val_total\n",
        "        history['val_losses'].append(epoch_val_loss)\n",
        "        history['val_accuracies'].append(epoch_val_acc)\n",
        "        history['epochs_completed'] = epoch + 1\n",
        "\n",
        "        # Learning rate scheduler step\n",
        "        scheduler.step(epoch_val_loss)\n",
        "\n",
        "        # Early stopping check\n",
        "        if epoch_val_loss < best_val_loss:\n",
        "            best_val_loss = epoch_val_loss\n",
        "            best_model_state = model.state_dict().copy()\n",
        "            patience_counter = 0\n",
        "        else:\n",
        "            patience_counter += 1\n",
        "\n",
        "        if patience_counter >= patience:\n",
        "            print(f\"Early stopping triggered after {epoch+1} epochs\")\n",
        "            model.load_state_dict(best_model_state)  # Restore best model\n",
        "            break\n",
        "\n",
        "        # Print statistics\n",
        "        epoch_time = time.time() - start_time\n",
        "        total_time = time.time() - start_time_total\n",
        "\n",
        "        print(f\"Epoch [{epoch+1}/{epochs}] | \"\n",
        "              f\"Train Loss: {epoch_train_loss:.4f} | \"\n",
        "              f\"Train Acc: {epoch_train_acc:.4f} | \"\n",
        "              f\"Val Loss: {epoch_val_loss:.4f} | \"\n",
        "              f\"Val Acc: {epoch_val_acc:.4f} | \"\n",
        "              f\"Time: {epoch_time:.2f}s | \"\n",
        "              f\"Total: {total_time/60:.2f}m\")\n",
        "\n",
        "        # Check if we're approaching the time limit\n",
        "        if total_time > time_limit_seconds:\n",
        "            print(f\"Approaching time limit of {time_limit_minutes} minutes, stopping training\")\n",
        "            if best_model_state is not None:\n",
        "                model.load_state_dict(best_model_state)  # Restore best model\n",
        "            break\n",
        "\n",
        "        # Force garbage collection\n",
        "        gc.collect()\n",
        "        if torch.cuda.is_available():\n",
        "            torch.cuda.empty_cache()\n",
        "\n",
        "    # Restore best model if we didn't stop early\n",
        "    if best_model_state is not None and patience_counter < patience:\n",
        "        model.load_state_dict(best_model_state)\n",
        "\n",
        "    return history\n",
        "\n",
        "\n",
        "def evaluate_model(model, test_loader):\n",
        "    \"\"\"Evaluate the model on test data\"\"\"\n",
        "    model.eval()\n",
        "\n",
        "    all_predictions = []\n",
        "    all_probabilities = []\n",
        "    all_labels = []\n",
        "\n",
        "    with torch.no_grad():\n",
        "        for inputs, labels in tqdm(test_loader, desc=\"Evaluating\"):\n",
        "            inputs = inputs.to(device)\n",
        "\n",
        "            # Forward pass\n",
        "            outputs = model(inputs)\n",
        "            probs = outputs.detach().cpu().numpy()\n",
        "            preds = (probs >= 0.5).astype(int)\n",
        "\n",
        "            all_probabilities.extend(probs.flatten())\n",
        "            all_predictions.extend(preds.flatten())\n",
        "            all_labels.extend(labels.cpu().numpy().flatten())\n",
        "\n",
        "            # Reset neuron states\n",
        "            functional.reset_net(model)\n",
        "\n",
        "    # Convert to numpy arrays\n",
        "    all_predictions = np.array(all_predictions)\n",
        "    all_probabilities = np.array(all_probabilities)\n",
        "    all_labels = np.array(all_labels)\n",
        "\n",
        "    # Calculate metrics\n",
        "    accuracy = accuracy_score(all_labels, all_predictions)\n",
        "    precision = precision_score(all_labels, all_predictions, zero_division=0)\n",
        "    recall = recall_score(all_labels, all_predictions, zero_division=0)\n",
        "    f1 = f1_score(all_labels, all_predictions, zero_division=0)\n",
        "    conf_matrix = confusion_matrix(all_labels, all_predictions)\n",
        "\n",
        "    # Calculate ROC curve and AUC\n",
        "    fpr, tpr, _ = roc_curve(all_labels, all_probabilities)\n",
        "    roc_auc = auc(fpr, tpr)\n",
        "\n",
        "    results = {\n",
        "        'accuracy': accuracy,\n",
        "        'precision': precision,\n",
        "        'recall': recall,\n",
        "        'f1_score': f1,\n",
        "        'confusion_matrix': conf_matrix,\n",
        "        'fpr': fpr,\n",
        "        'tpr': tpr,\n",
        "        'roc_auc': roc_auc\n",
        "    }\n",
        "\n",
        "    # Print results\n",
        "    print(f\"Test Accuracy: {accuracy:.4f}\")\n",
        "    print(f\"Precision: {precision:.4f}\")\n",
        "    print(f\"Recall: {recall:.4f}\")\n",
        "    print(f\"F1 Score: {f1:.4f}\")\n",
        "    print(f\"ROC AUC: {roc_auc:.4f}\")\n",
        "    print(\"Confusion Matrix:\")\n",
        "    print(conf_matrix)\n",
        "\n",
        "    return results\n",
        "\n",
        "\n",
        "def plot_results(history, test_results):\n",
        "    \"\"\"Plot training curves and ROC curve\"\"\"\n",
        "    plt.figure(figsize=(15, 10))\n",
        "\n",
        "    # Plot training curves\n",
        "    plt.subplot(2, 2, 1)\n",
        "    plt.plot(history['train_losses'], label='Train Loss')\n",
        "    plt.plot(history['val_losses'], label='Validation Loss')\n",
        "    plt.title('Loss Curves')\n",
        "    plt.xlabel('Epochs')\n",
        "    plt.ylabel('Loss')\n",
        "    plt.legend()\n",
        "\n",
        "    plt.subplot(2, 2, 2)\n",
        "    plt.plot(history['train_accuracies'], label='Train Accuracy')\n",
        "    plt.plot(history['val_accuracies'], label='Validation Accuracy')\n",
        "    plt.title('Accuracy Curves')\n",
        "    plt.xlabel('Epochs')\n",
        "    plt.ylabel('Accuracy')\n",
        "    plt.legend()\n",
        "\n",
        "    # Plot ROC curve\n",
        "    plt.subplot(2, 2, 3)\n",
        "    plt.plot(test_results['fpr'], test_results['tpr'],\n",
        "             label=f'ROC curve (AUC = {test_results[\"roc_auc\"]:.2f})')\n",
        "    plt.plot([0, 1], [0, 1], 'k--')  # Diagonal line\n",
        "    plt.xlabel('False Positive Rate')\n",
        "    plt.ylabel('True Positive Rate')\n",
        "    plt.title('ROC Curve')\n",
        "    plt.legend(loc='lower right')\n",
        "\n",
        "    # Plot confusion matrix\n",
        "    plt.subplot(2, 2, 4)\n",
        "    cm = test_results['confusion_matrix']\n",
        "    plt.imshow(cm, interpolation='nearest', cmap=plt.cm.Blues)\n",
        "    plt.title('Confusion Matrix')\n",
        "    plt.colorbar()\n",
        "    tick_marks = np.arange(2)\n",
        "    plt.xticks(tick_marks, ['No Seizure', 'Seizure'], rotation=45)\n",
        "    plt.yticks(tick_marks, ['No Seizure', 'Seizure'])\n",
        "\n",
        "    # Add text annotations to confusion matrix\n",
        "    thresh = cm.max() / 2\n",
        "    for i in range(cm.shape[0]):\n",
        "        for j in range(cm.shape[1]):\n",
        "            plt.text(j, i, f\"{cm[i, j]}\",\n",
        "                    horizontalalignment=\"center\",\n",
        "                    color=\"white\" if cm[i, j] > thresh else \"black\")\n",
        "\n",
        "    plt.tight_layout()\n",
        "    plt.savefig('/content/results_gpu_optimized.png', dpi=150, bbox_inches='tight')\n",
        "    plt.show()\n",
        "\n",
        "\n",
        "def main():\n",
        "    print(\"Starting GPU-optimized SNN model training...\")\n",
        "    start_time = time.time()\n",
        "\n",
        "    # GPU optimization steps\n",
        "    if torch.cuda.is_available():\n",
        "        # Clear GPU cache\n",
        "        torch.cuda.empty_cache()\n",
        "\n",
        "        # Print GPU info\n",
        "        print(f\"CUDA Version: {torch.version.cuda}\")\n",
        "        print(f\"GPU Count: {torch.cuda.device_count()}\")\n",
        "        print(f\"Current GPU: {torch.cuda.current_device()}\")\n",
        "        print(f\"GPU Name: {torch.cuda.get_device_name(0)}\")\n",
        "\n",
        "    # Initialize optimized dataset with balanced sampling\n",
        "    # Data path for Google Colab\n",
        "    data_dir = '/content/drive/MyDrive/snn'\n",
        "\n",
        "    # Verify data directory exists\n",
        "    if not os.path.exists(data_dir):\n",
        "        print(f\"Error: Data directory {data_dir} not found!\")\n",
        "        print(\"Please check that:\")\n",
        "        print(\"1. Google Drive is mounted correctly\")\n",
        "        print(\"2. Your .npz files are in the 'snn' folder in your Google Drive\")\n",
        "        return\n",
        "\n",
        "    dataset = OptimizedEEGDataset(\n",
        "        data_dir=data_dir,\n",
        "        subsample_factor=4,  # More aggressive subsampling\n",
        "        max_samples_per_class=8000,  # Cap samples per class\n",
        "        max_files=60  # Limit number of files to process\n",
        "    )\n",
        "\n",
        "    # Use larger batch size for better GPU utilization\n",
        "    batch_size = 128 if torch.cuda.is_available() else 32\n",
        "    train_loader, val_loader, test_loader = create_data_loaders(\n",
        "        dataset,\n",
        "        batch_size=batch_size\n",
        "    )\n",
        "\n",
        "    # Get input shape from a sample\n",
        "    sample_input, _ = next(iter(train_loader))\n",
        "    sample_input = sample_input[0]  # Just get one sample\n",
        "    input_shape = (1,) + tuple(sample_input.shape)\n",
        "    print(f\"Input shape: {input_shape}\")\n",
        "\n",
        "    # Initialize the optimized model with slightly reduced capacity for speed\n",
        "    model = FastEEGSpikingNet(input_shape=input_shape, hidden_units=192).to(device)\n",
        "    print(model)\n",
        "\n",
        "    # Count parameters\n",
        "    param_count = sum(p.numel() for p in model.parameters() if p.requires_grad)\n",
        "    print(f\"Model has {param_count:,} trainable parameters\")\n",
        "\n",
        "    # Train with optimized GPU settings\n",
        "    print(\"Starting mixed-precision training for faster GPU execution...\")\n",
        "    history = fast_train_model(\n",
        "        model,\n",
        "        train_loader,\n",
        "        val_loader,\n",
        "        epochs=20,  # Reduced epoch count\n",
        "        learning_rate=0.001,\n",
        "        time_limit_minutes=50\n",
        "    )\n",
        "\n",
        "    # Evaluate model\n",
        "    test_results = evaluate_model(model, test_loader)\n",
        "\n",
        "    # Plot results\n",
        "    plot_results(history, test_results)\n",
        "\n",
        "    # Save model with metadata to Google Drive\n",
        "    save_path = '/content/drive/MyDrive/eeg_gpu_optimized_model.pth'\n",
        "    torch.save({\n",
        "        'model_state_dict': model.state_dict(),\n",
        "        'history': history,\n",
        "        'test_results': test_results,\n",
        "        'input_shape': input_shape,\n",
        "        'timestamp': time.time()\n",
        "    }, save_path)\n",
        "    print(f\"Model saved to {save_path}\")\n",
        "\n",
        "    # Also save a backup to Colab's local storage\n",
        "    torch.save({\n",
        "        'model_state_dict': model.state_dict(),\n",
        "        'history': history,\n",
        "        'test_results': test_results,\n",
        "        'input_shape': input_shape,\n",
        "        'timestamp': time.time()\n",
        "    }, '/content/eeg_gpu_optimized_model.pth')\n",
        "\n",
        "    # Report total time\n",
        "    total_time = time.time() - start_time\n",
        "    minutes, seconds = divmod(total_time, 60)\n",
        "    print(f\"Total execution time: {minutes:.0f} minutes {seconds:.2f} seconds\")\n",
        "\n",
        "    # Print summary\n",
        "    print(\"\\n\" + \"=\"*50)\n",
        "    print(\"TRAINING SUMMARY\")\n",
        "    print(\"=\"*50)\n",
        "    print(f\"Final Test Accuracy: {test_results['accuracy']:.4f}\")\n",
        "    print(f\"Final Test F1 Score: {test_results['f1_score']:.4f}\")\n",
        "    print(f\"Final Test ROC AUC: {test_results['roc_auc']:.4f}\")\n",
        "    print(f\"Training completed in {minutes:.0f} minutes {seconds:.2f} seconds\")\n",
        "    print(f\"Model saved to: {save_path}\")\n",
        "\n",
        "\n",
        "if __name__ == \"__main__\":\n",
        "    main()"
      ],
      "metadata": {
        "colab": {
          "base_uri": "https://localhost:8080/",
          "height": 1000
        },
        "id": "hH_wwFPVKDBM",
        "outputId": "351b746b-8c26-40ec-fd3a-4f783b25dcc7"
      },
      "execution_count": null,
      "outputs": [
        {
          "output_type": "stream",
          "name": "stdout",
          "text": [
            "Collecting spikingjelly\n",
            "  Downloading spikingjelly-0.0.0.0.14-py3-none-any.whl.metadata (15 kB)\n",
            "Requirement already satisfied: torch in /usr/local/lib/python3.11/dist-packages (2.6.0+cu124)\n",
            "Requirement already satisfied: torchvision in /usr/local/lib/python3.11/dist-packages (0.21.0+cu124)\n",
            "Requirement already satisfied: matplotlib in /usr/local/lib/python3.11/dist-packages (3.10.0)\n",
            "Requirement already satisfied: scikit-learn in /usr/local/lib/python3.11/dist-packages (1.6.1)\n",
            "Requirement already satisfied: tqdm in /usr/local/lib/python3.11/dist-packages (4.67.1)\n",
            "Requirement already satisfied: numpy in /usr/local/lib/python3.11/dist-packages (2.0.2)\n",
            "Requirement already satisfied: scipy in /usr/local/lib/python3.11/dist-packages (from spikingjelly) (1.15.3)\n",
            "Requirement already satisfied: filelock in /usr/local/lib/python3.11/dist-packages (from torch) (3.18.0)\n",
            "Requirement already satisfied: typing-extensions>=4.10.0 in /usr/local/lib/python3.11/dist-packages (from torch) (4.13.2)\n",
            "Requirement already satisfied: networkx in /usr/local/lib/python3.11/dist-packages (from torch) (3.5)\n",
            "Requirement already satisfied: jinja2 in /usr/local/lib/python3.11/dist-packages (from torch) (3.1.6)\n",
            "Requirement already satisfied: fsspec in /usr/local/lib/python3.11/dist-packages (from torch) (2025.3.2)\n",
            "Requirement already satisfied: nvidia-cuda-nvrtc-cu12==12.4.127 in /usr/local/lib/python3.11/dist-packages (from torch) (12.4.127)\n",
            "Requirement already satisfied: nvidia-cuda-runtime-cu12==12.4.127 in /usr/local/lib/python3.11/dist-packages (from torch) (12.4.127)\n",
            "Requirement already satisfied: nvidia-cuda-cupti-cu12==12.4.127 in /usr/local/lib/python3.11/dist-packages (from torch) (12.4.127)\n",
            "Requirement already satisfied: nvidia-cudnn-cu12==9.1.0.70 in /usr/local/lib/python3.11/dist-packages (from torch) (9.1.0.70)\n",
            "Requirement already satisfied: nvidia-cublas-cu12==12.4.5.8 in /usr/local/lib/python3.11/dist-packages (from torch) (12.4.5.8)\n",
            "Requirement already satisfied: nvidia-cufft-cu12==11.2.1.3 in /usr/local/lib/python3.11/dist-packages (from torch) (11.2.1.3)\n",
            "Requirement already satisfied: nvidia-curand-cu12==10.3.5.147 in /usr/local/lib/python3.11/dist-packages (from torch) (10.3.5.147)\n",
            "Requirement already satisfied: nvidia-cusolver-cu12==11.6.1.9 in /usr/local/lib/python3.11/dist-packages (from torch) (11.6.1.9)\n",
            "Requirement already satisfied: nvidia-cusparse-cu12==12.3.1.170 in /usr/local/lib/python3.11/dist-packages (from torch) (12.3.1.170)\n",
            "Requirement already satisfied: nvidia-cusparselt-cu12==0.6.2 in /usr/local/lib/python3.11/dist-packages (from torch) (0.6.2)\n",
            "Requirement already satisfied: nvidia-nccl-cu12==2.21.5 in /usr/local/lib/python3.11/dist-packages (from torch) (2.21.5)\n",
            "Requirement already satisfied: nvidia-nvtx-cu12==12.4.127 in /usr/local/lib/python3.11/dist-packages (from torch) (12.4.127)\n",
            "Requirement already satisfied: nvidia-nvjitlink-cu12==12.4.127 in /usr/local/lib/python3.11/dist-packages (from torch) (12.4.127)\n",
            "Requirement already satisfied: triton==3.2.0 in /usr/local/lib/python3.11/dist-packages (from torch) (3.2.0)\n",
            "Requirement already satisfied: sympy==1.13.1 in /usr/local/lib/python3.11/dist-packages (from torch) (1.13.1)\n",
            "Requirement already satisfied: mpmath<1.4,>=1.1.0 in /usr/local/lib/python3.11/dist-packages (from sympy==1.13.1->torch) (1.3.0)\n",
            "Requirement already satisfied: pillow!=8.3.*,>=5.3.0 in /usr/local/lib/python3.11/dist-packages (from torchvision) (11.2.1)\n",
            "Requirement already satisfied: contourpy>=1.0.1 in /usr/local/lib/python3.11/dist-packages (from matplotlib) (1.3.2)\n",
            "Requirement already satisfied: cycler>=0.10 in /usr/local/lib/python3.11/dist-packages (from matplotlib) (0.12.1)\n",
            "Requirement already satisfied: fonttools>=4.22.0 in /usr/local/lib/python3.11/dist-packages (from matplotlib) (4.58.1)\n",
            "Requirement already satisfied: kiwisolver>=1.3.1 in /usr/local/lib/python3.11/dist-packages (from matplotlib) (1.4.8)\n",
            "Requirement already satisfied: packaging>=20.0 in /usr/local/lib/python3.11/dist-packages (from matplotlib) (24.2)\n",
            "Requirement already satisfied: pyparsing>=2.3.1 in /usr/local/lib/python3.11/dist-packages (from matplotlib) (3.2.3)\n",
            "Requirement already satisfied: python-dateutil>=2.7 in /usr/local/lib/python3.11/dist-packages (from matplotlib) (2.9.0.post0)\n",
            "Requirement already satisfied: joblib>=1.2.0 in /usr/local/lib/python3.11/dist-packages (from scikit-learn) (1.5.1)\n",
            "Requirement already satisfied: threadpoolctl>=3.1.0 in /usr/local/lib/python3.11/dist-packages (from scikit-learn) (3.6.0)\n",
            "Requirement already satisfied: six>=1.5 in /usr/local/lib/python3.11/dist-packages (from python-dateutil>=2.7->matplotlib) (1.17.0)\n",
            "Requirement already satisfied: MarkupSafe>=2.0 in /usr/local/lib/python3.11/dist-packages (from jinja2->torch) (3.0.2)\n",
            "Downloading spikingjelly-0.0.0.0.14-py3-none-any.whl (437 kB)\n",
            "\u001b[2K   \u001b[90m━━━━━━━━━━━━━━━━━━━━━━━━━━━━━━━━━━━━━━━━\u001b[0m \u001b[32m437.6/437.6 kB\u001b[0m \u001b[31m6.5 MB/s\u001b[0m eta \u001b[36m0:00:00\u001b[0m\n",
            "\u001b[?25hInstalling collected packages: spikingjelly\n",
            "Successfully installed spikingjelly-0.0.0.0.14\n",
            "Drive already mounted at /content/drive; to attempt to forcibly remount, call drive.mount(\"/content/drive\", force_remount=True).\n",
            "No GPU available, using CPU\n",
            "Using device: cpu\n",
            "Data directory found: /content/drive/MyDrive/snn\n",
            "Found 76 .npz files\n",
            "Starting GPU-optimized SNN model training...\n",
            "Found 76 .npz files in /content/drive/MyDrive/snn\n",
            "Using 60 out of 76 files to limit processing time\n",
            "Loading data with smart sampling...\n"
          ]
        },
        {
          "output_type": "stream",
          "name": "stderr",
          "text": [
            "\r  0%|          | 0/60 [00:00<?, ?it/s]"
          ]
        },
        {
          "output_type": "stream",
          "name": "stdout",
          "text": [
            "Keys in eeg6_data.npz: ['X', 'y']\n"
          ]
        },
        {
          "output_type": "stream",
          "name": "stderr",
          "text": [
            "\r  2%|▏         | 1/60 [00:13<13:32, 13.78s/it]"
          ]
        },
        {
          "output_type": "stream",
          "name": "stdout",
          "text": [
            "Loaded eeg6_data.npz: 390 samples - Now have 390 class 0 and 0 class 1\n"
          ]
        },
        {
          "output_type": "stream",
          "name": "stderr",
          "text": [
            "\r  3%|▎         | 2/60 [00:30<15:11, 15.71s/it]"
          ]
        },
        {
          "output_type": "stream",
          "name": "stdout",
          "text": [
            "Loaded eeg38_data.npz: 507 samples - Now have 573 class 0 and 324 class 1\n"
          ]
        },
        {
          "output_type": "stream",
          "name": "stderr",
          "text": [
            "\r  5%|▌         | 3/60 [00:41<12:48, 13.48s/it]"
          ]
        },
        {
          "output_type": "stream",
          "name": "stdout",
          "text": [
            "Loaded eeg12_data.npz: 371 samples - Now have 944 class 0 and 324 class 1\n"
          ]
        },
        {
          "output_type": "stream",
          "name": "stderr",
          "text": [
            "\r  7%|▋         | 4/60 [00:56<13:04, 14.01s/it]"
          ]
        },
        {
          "output_type": "stream",
          "name": "stdout",
          "text": [
            "Loaded eeg1_data.npz: 582 samples - Now have 1372 class 0 and 478 class 1\n"
          ]
        },
        {
          "output_type": "stream",
          "name": "stderr",
          "text": [
            "\r  8%|▊         | 5/60 [01:01<09:51, 10.76s/it]"
          ]
        },
        {
          "output_type": "stream",
          "name": "stdout",
          "text": [
            "Loaded eeg48_data.npz: 319 samples - Now have 1691 class 0 and 478 class 1\n"
          ]
        },
        {
          "output_type": "stream",
          "name": "stderr",
          "text": [
            "\r 10%|█         | 6/60 [01:08<08:38,  9.60s/it]"
          ]
        },
        {
          "output_type": "stream",
          "name": "stdout",
          "text": [
            "Loaded eeg51_data.npz: 390 samples - Now have 2081 class 0 and 478 class 1\n"
          ]
        },
        {
          "output_type": "stream",
          "name": "stderr",
          "text": [
            "\r 12%|█▏        | 7/60 [01:14<07:21,  8.33s/it]"
          ]
        },
        {
          "output_type": "stream",
          "name": "stdout",
          "text": [
            "Loaded eeg69_data.npz: 331 samples - Now have 2270 class 0 and 620 class 1\n"
          ]
        },
        {
          "output_type": "stream",
          "name": "stderr",
          "text": [
            "\r 13%|█▎        | 8/60 [01:19<06:19,  7.30s/it]"
          ]
        },
        {
          "output_type": "stream",
          "name": "stdout",
          "text": [
            "Loaded eeg57_data.npz: 260 samples - Now have 2530 class 0 and 620 class 1\n"
          ]
        },
        {
          "output_type": "stream",
          "name": "stderr",
          "text": [
            "\r 15%|█▌        | 9/60 [01:26<06:03,  7.12s/it]"
          ]
        },
        {
          "output_type": "stream",
          "name": "stdout",
          "text": [
            "Loaded eeg54_data.npz: 362 samples - Now have 2724 class 0 and 788 class 1\n"
          ]
        },
        {
          "output_type": "stream",
          "name": "stderr",
          "text": [
            "\r 17%|█▋        | 10/60 [01:33<05:58,  7.17s/it]"
          ]
        },
        {
          "output_type": "stream",
          "name": "stdout",
          "text": [
            "Loaded eeg31_data.npz: 293 samples - Now have 3017 class 0 and 788 class 1\n"
          ]
        },
        {
          "output_type": "stream",
          "name": "stderr",
          "text": [
            "\r 18%|█▊        | 11/60 [01:39<05:25,  6.65s/it]"
          ]
        },
        {
          "output_type": "stream",
          "name": "stdout",
          "text": [
            "Loaded eeg71_data.npz: 355 samples - Now have 3372 class 0 and 788 class 1\n"
          ]
        },
        {
          "output_type": "stream",
          "name": "stderr",
          "text": [
            "\r 20%|██        | 12/60 [01:46<05:27,  6.83s/it]"
          ]
        },
        {
          "output_type": "stream",
          "name": "stdout",
          "text": [
            "Loaded eeg74_data.npz: 362 samples - Now have 3734 class 0 and 788 class 1\n"
          ]
        },
        {
          "output_type": "stream",
          "name": "stderr",
          "text": [
            "\r 22%|██▏       | 13/60 [01:58<06:39,  8.51s/it]"
          ]
        },
        {
          "output_type": "stream",
          "name": "stdout",
          "text": [
            "Loaded eeg20_data.npz: 332 samples - Now have 4008 class 0 and 846 class 1\n"
          ]
        },
        {
          "output_type": "stream",
          "name": "stderr",
          "text": [
            "\r 23%|██▎       | 14/60 [02:08<06:46,  8.84s/it]"
          ]
        },
        {
          "output_type": "stream",
          "name": "stdout",
          "text": [
            "Loaded eeg14_data.npz: 310 samples - Now have 4281 class 0 and 883 class 1\n"
          ]
        },
        {
          "output_type": "stream",
          "name": "stderr",
          "text": [
            "\r 25%|██▌       | 15/60 [02:17<06:44,  9.00s/it]"
          ]
        },
        {
          "output_type": "stream",
          "name": "stdout",
          "text": [
            "Loaded eeg62_data.npz: 486 samples - Now have 4767 class 0 and 883 class 1\n"
          ]
        },
        {
          "output_type": "stream",
          "name": "stderr",
          "text": [
            "\r 27%|██▋       | 16/60 [02:29<07:08,  9.73s/it]"
          ]
        },
        {
          "output_type": "stream",
          "name": "stdout",
          "text": [
            "Loaded eeg36_data.npz: 423 samples - Now have 4808 class 0 and 1265 class 1\n"
          ]
        },
        {
          "output_type": "stream",
          "name": "stderr",
          "text": [
            "\r 28%|██▊       | 17/60 [02:46<08:37, 12.03s/it]"
          ]
        },
        {
          "output_type": "stream",
          "name": "stdout",
          "text": [
            "Loaded eeg11_data.npz: 623 samples - Now have 5431 class 0 and 1265 class 1\n"
          ]
        },
        {
          "output_type": "stream",
          "name": "stderr",
          "text": [
            "\r 30%|███       | 18/60 [02:57<08:11, 11.70s/it]"
          ]
        },
        {
          "output_type": "stream",
          "name": "stdout",
          "text": [
            "Loaded eeg7_data.npz: 304 samples - Now have 5700 class 0 and 1300 class 1\n"
          ]
        },
        {
          "output_type": "stream",
          "name": "stderr",
          "text": [
            "\r 32%|███▏      | 19/60 [03:07<07:34, 11.08s/it]"
          ]
        },
        {
          "output_type": "stream",
          "name": "stdout",
          "text": [
            "Loaded eeg37_data.npz: 380 samples - Now have 6080 class 0 and 1300 class 1\n"
          ]
        },
        {
          "output_type": "stream",
          "name": "stderr",
          "text": [
            "\r 33%|███▎      | 20/60 [03:17<07:13, 10.84s/it]"
          ]
        },
        {
          "output_type": "stream",
          "name": "stdout",
          "text": [
            "Loaded eeg24_data.npz: 307 samples - Now have 6387 class 0 and 1300 class 1\n"
          ]
        },
        {
          "output_type": "stream",
          "name": "stderr",
          "text": [
            "\r 35%|███▌      | 21/60 [03:28<07:06, 10.95s/it]"
          ]
        },
        {
          "output_type": "stream",
          "name": "stdout",
          "text": [
            "Loaded eeg33_data.npz: 311 samples - Now have 6698 class 0 and 1300 class 1\n"
          ]
        },
        {
          "output_type": "stream",
          "name": "stderr",
          "text": [
            "\r 37%|███▋      | 22/60 [03:39<06:58, 11.01s/it]"
          ]
        },
        {
          "output_type": "stream",
          "name": "stdout",
          "text": [
            "Loaded eeg43_data.npz: 605 samples - Now have 7303 class 0 and 1300 class 1\n"
          ]
        },
        {
          "output_type": "stream",
          "name": "stderr",
          "text": [
            "\r 38%|███▊      | 23/60 [03:49<06:36, 10.71s/it]"
          ]
        },
        {
          "output_type": "stream",
          "name": "stdout",
          "text": [
            "Loaded eeg42_data.npz: 413 samples - Now have 7716 class 0 and 1300 class 1\n"
          ]
        },
        {
          "output_type": "stream",
          "name": "stderr",
          "text": [
            "\r 40%|████      | 24/60 [03:57<05:57,  9.94s/it]"
          ]
        },
        {
          "output_type": "stream",
          "name": "stdout",
          "text": [
            "Loaded eeg18_data.npz: 284 samples - Now have 8000 class 0 and 1300 class 1\n"
          ]
        },
        {
          "output_type": "stream",
          "name": "stderr",
          "text": [
            " 45%|████▌     | 27/60 [04:28<06:04, 11.04s/it]"
          ]
        },
        {
          "output_type": "stream",
          "name": "stdout",
          "text": [
            "Loaded eeg34_data.npz: 456 samples - Now have 8000 class 0 and 1756 class 1\n"
          ]
        },
        {
          "output_type": "stream",
          "name": "stderr",
          "text": [
            "\r 47%|████▋     | 28/60 [04:38<05:42, 10.71s/it]"
          ]
        },
        {
          "output_type": "stream",
          "name": "stdout",
          "text": [
            "Loaded eeg9_data.npz: 31 samples - Now have 8000 class 0 and 1787 class 1\n"
          ]
        },
        {
          "output_type": "stream",
          "name": "stderr",
          "text": [
            " 50%|█████     | 30/60 [04:51<04:14,  8.49s/it]"
          ]
        },
        {
          "output_type": "stream",
          "name": "stdout",
          "text": [
            "Loaded eeg47_data.npz: 62 samples - Now have 8000 class 0 and 1849 class 1\n"
          ]
        },
        {
          "output_type": "stream",
          "name": "stderr",
          "text": [
            " 55%|█████▌    | 33/60 [05:06<02:45,  6.13s/it]"
          ]
        },
        {
          "output_type": "stream",
          "name": "stdout",
          "text": [
            "Loaded eeg79_data.npz: 44 samples - Now have 8000 class 0 and 1893 class 1\n"
          ]
        },
        {
          "output_type": "stream",
          "name": "stderr",
          "text": [
            " 58%|█████▊    | 35/60 [05:28<03:27,  8.29s/it]"
          ]
        },
        {
          "output_type": "stream",
          "name": "stdout",
          "text": [
            "Loaded eeg67_data.npz: 44 samples - Now have 8000 class 0 and 1937 class 1\n"
          ]
        },
        {
          "output_type": "stream",
          "name": "stderr",
          "text": [
            " 63%|██████▎   | 38/60 [05:58<03:41, 10.07s/it]"
          ]
        },
        {
          "output_type": "stream",
          "name": "stdout",
          "text": [
            "Loaded eeg15_data.npz: 156 samples - Now have 8000 class 0 and 2093 class 1\n"
          ]
        },
        {
          "output_type": "stream",
          "name": "stderr",
          "text": [
            " 67%|██████▋   | 40/60 [06:11<02:49,  8.46s/it]"
          ]
        },
        {
          "output_type": "stream",
          "name": "stdout",
          "text": [
            "Loaded eeg5_data.npz: 191 samples - Now have 8000 class 0 and 2284 class 1\n"
          ]
        },
        {
          "output_type": "stream",
          "name": "stderr",
          "text": [
            "\r 68%|██████▊   | 41/60 [06:21<02:51,  9.00s/it]"
          ]
        },
        {
          "output_type": "stream",
          "name": "stdout",
          "text": [
            "Loaded eeg19_data.npz: 90 samples - Now have 8000 class 0 and 2374 class 1\n"
          ]
        },
        {
          "output_type": "stream",
          "name": "stderr",
          "text": [
            "\r 70%|███████   | 42/60 [06:30<02:40,  8.90s/it]"
          ]
        },
        {
          "output_type": "stream",
          "name": "stdout",
          "text": [
            "Loaded eeg41_data.npz: 743 samples - Now have 8000 class 0 and 3117 class 1\n"
          ]
        },
        {
          "output_type": "stream",
          "name": "stderr",
          "text": [
            " 77%|███████▋  | 46/60 [07:06<02:07,  9.13s/it]"
          ]
        },
        {
          "output_type": "stream",
          "name": "stdout",
          "text": [
            "Loaded eeg39_data.npz: 384 samples - Now have 8000 class 0 and 3501 class 1\n"
          ]
        },
        {
          "output_type": "stream",
          "name": "stderr",
          "text": [
            " 83%|████████▎ | 50/60 [07:35<01:18,  7.84s/it]"
          ]
        },
        {
          "output_type": "stream",
          "name": "stdout",
          "text": [
            "Loaded eeg78_data.npz: 242 samples - Now have 8000 class 0 and 3743 class 1\n"
          ]
        },
        {
          "output_type": "stream",
          "name": "stderr",
          "text": [
            " 88%|████████▊ | 53/60 [08:02<00:56,  8.01s/it]"
          ]
        },
        {
          "output_type": "stream",
          "name": "stdout",
          "text": [
            "Loaded eeg44_data.npz: 21 samples - Now have 8000 class 0 and 3764 class 1\n"
          ]
        },
        {
          "output_type": "stream",
          "name": "stderr",
          "text": [
            "100%|██████████| 60/60 [09:06<00:00,  9.10s/it]"
          ]
        },
        {
          "output_type": "stream",
          "name": "stdout",
          "text": [
            "Loaded eeg13_data.npz: 776 samples - Now have 8000 class 0 and 4540 class 1\n",
            "Concatenating samples...\n"
          ]
        },
        {
          "output_type": "stream",
          "name": "stderr",
          "text": [
            "\n"
          ]
        },
        {
          "output_type": "stream",
          "name": "stdout",
          "text": [
            "Dataset contains 12540 samples\n",
            "Data shape: (12540, 21, 25, 7)\n",
            "Class distribution: Class 0: 8000, Class 1: 4540\n",
            "Class weights: {0: 0.78375, 1: 1.381057268722467}\n",
            "Input shape: (1, 21, 25, 7)\n",
            "FastEEGSpikingNet(\n",
            "  (flatten): Flatten(start_dim=1, end_dim=-1)\n",
            "  (fc1): Linear(in_features=3675, out_features=192, bias=True)\n",
            "  (bn1): BatchNorm1d(192, eps=1e-05, momentum=0.1, affine=True, track_running_stats=True)\n",
            "  (dropout1): Dropout(p=0.3, inplace=False)\n",
            "  (lif1): LIFNode(\n",
            "    v_threshold=1.0, v_reset=0.0, detach_reset=False, tau=2.0\n",
            "    (surrogate_function): ATan(alpha=2.0, spiking=True)\n",
            "  )\n",
            "  (fc2): Linear(in_features=192, out_features=192, bias=True)\n",
            "  (bn2): BatchNorm1d(192, eps=1e-05, momentum=0.1, affine=True, track_running_stats=True)\n",
            "  (dropout2): Dropout(p=0.2, inplace=False)\n",
            "  (lif2): LIFNode(\n",
            "    v_threshold=1.0, v_reset=0.0, detach_reset=False, tau=2.0\n",
            "    (surrogate_function): ATan(alpha=2.0, spiking=True)\n",
            "  )\n",
            "  (fc_out): Linear(in_features=192, out_features=1, bias=True)\n",
            "  (sigmoid): Sigmoid()\n",
            ")\n",
            "Model has 743,809 trainable parameters\n",
            "Starting mixed-precision training for faster GPU execution...\n"
          ]
        },
        {
          "output_type": "stream",
          "name": "stderr",
          "text": [
            "/usr/local/lib/python3.11/dist-packages/torch/optim/lr_scheduler.py:62: UserWarning: The verbose parameter is deprecated. Please use get_last_lr() to access the learning rate.\n",
            "  warnings.warn(\n",
            "<ipython-input-7-df03fd10262a>:399: FutureWarning: `torch.cuda.amp.GradScaler(args...)` is deprecated. Please use `torch.amp.GradScaler('cuda', args...)` instead.\n",
            "  scaler = GradScaler()\n",
            "/usr/local/lib/python3.11/dist-packages/torch/amp/grad_scaler.py:132: UserWarning: torch.cuda.amp.GradScaler is enabled, but CUDA is not available.  Disabling.\n",
            "  warnings.warn(\n",
            "Epoch 1/20 [Train]:   0%|          | 0/275 [00:00<?, ?it/s]<ipython-input-7-df03fd10262a>:437: FutureWarning: `torch.cuda.amp.autocast(args...)` is deprecated. Please use `torch.amp.autocast('cuda', args...)` instead.\n",
            "  with autocast():\n",
            "/usr/local/lib/python3.11/dist-packages/torch/amp/autocast_mode.py:266: UserWarning: User provided device_type of 'cuda', but CUDA is not available. Disabling\n",
            "  warnings.warn(\n",
            "Epoch 1/20 [Train]:   6%|▌         | 16/275 [00:00<00:08, 30.47it/s, loss=0.5659, acc=0.6875]<ipython-input-7-df03fd10262a>:437: FutureWarning: `torch.cuda.amp.autocast(args...)` is deprecated. Please use `torch.amp.autocast('cuda', args...)` instead.\n",
            "  with autocast():\n",
            "/usr/local/lib/python3.11/dist-packages/torch/amp/autocast_mode.py:266: UserWarning: User provided device_type of 'cuda', but CUDA is not available. Disabling\n",
            "  warnings.warn(\n",
            "Epoch 1/20 [Train]:  12%|█▏        | 33/275 [00:01<00:05, 46.03it/s, loss=0.4388, acc=0.8438]<ipython-input-7-df03fd10262a>:437: FutureWarning: `torch.cuda.amp.autocast(args...)` is deprecated. Please use `torch.amp.autocast('cuda', args...)` instead.\n",
            "  with autocast():\n",
            "/usr/local/lib/python3.11/dist-packages/torch/amp/autocast_mode.py:266: UserWarning: User provided device_type of 'cuda', but CUDA is not available. Disabling\n",
            "  warnings.warn(\n",
            "Epoch 1/20 [Train]:  27%|██▋       | 74/275 [00:01<00:03, 53.44it/s, loss=0.5117, acc=0.7500]/usr/local/lib/python3.11/dist-packages/torch/amp/autocast_mode.py:266: UserWarning: User provided device_type of 'cuda', but CUDA is not available. Disabling\n",
            "  warnings.warn(\n",
            "Epoch 1/20 [Train]:  27%|██▋       | 74/275 [00:01<00:03, 53.44it/s, loss=0.4641, acc=0.8438]<ipython-input-7-df03fd10262a>:437: FutureWarning: `torch.cuda.amp.autocast(args...)` is deprecated. Please use `torch.amp.autocast('cuda', args...)` instead.\n",
            "  with autocast():\n",
            "Epoch 1/20 [Train]:  64%|██████▍   | 177/275 [00:03<00:01, 54.23it/s, loss=0.3350, acc=0.8438]/usr/local/lib/python3.11/dist-packages/torch/amp/autocast_mode.py:266: UserWarning: User provided device_type of 'cuda', but CUDA is not available. Disabling\n",
            "  warnings.warn(\n",
            "Epoch 1/20 [Train]:  64%|██████▍   | 177/275 [00:03<00:01, 54.23it/s, loss=0.3200, acc=0.8125]<ipython-input-7-df03fd10262a>:437: FutureWarning: `torch.cuda.amp.autocast(args...)` is deprecated. Please use `torch.amp.autocast('cuda', args...)` instead.\n",
            "  with autocast():\n",
            "Epoch 1/20 [Train]:  71%|███████   | 195/275 [00:04<00:01, 51.92it/s, loss=0.2627, acc=0.8750]<ipython-input-7-df03fd10262a>:437: FutureWarning: `torch.cuda.amp.autocast(args...)` is deprecated. Please use `torch.amp.autocast('cuda', args...)` instead.\n",
            "  with autocast():\n",
            "/usr/local/lib/python3.11/dist-packages/torch/amp/autocast_mode.py:266: UserWarning: User provided device_type of 'cuda', but CUDA is not available. Disabling\n",
            "  warnings.warn(\n",
            "Epoch 1/20 [Train]:  96%|█████████▌| 264/275 [00:05<00:00, 39.52it/s, loss=0.2932, acc=0.8438]<ipython-input-7-df03fd10262a>:437: FutureWarning: `torch.cuda.amp.autocast(args...)` is deprecated. Please use `torch.amp.autocast('cuda', args...)` instead.\n",
            "  with autocast():\n",
            "/usr/local/lib/python3.11/dist-packages/torch/amp/autocast_mode.py:266: UserWarning: User provided device_type of 'cuda', but CUDA is not available. Disabling\n",
            "  warnings.warn(\n",
            "Epoch 1/20 [Train]: 100%|██████████| 275/275 [00:06<00:00, 44.38it/s, loss=0.4375, acc=0.8000]\n",
            "Epoch 1/20 [Val]: 100%|██████████| 40/40 [00:00<00:00, 40.22it/s, loss=0.4087, acc=0.8333]\n"
          ]
        },
        {
          "output_type": "stream",
          "name": "stdout",
          "text": [
            "Epoch [1/20] | Train Loss: 0.3856 | Train Acc: 0.8388 | Val Loss: 0.4629 | Val Acc: 0.8764 | Time: 7.21s | Total: 0.12m\n"
          ]
        },
        {
          "output_type": "stream",
          "name": "stderr",
          "text": [
            "Epoch 2/20 [Train]:   0%|          | 0/275 [00:00<?, ?it/s]<ipython-input-7-df03fd10262a>:437: FutureWarning: `torch.cuda.amp.autocast(args...)` is deprecated. Please use `torch.amp.autocast('cuda', args...)` instead.\n",
            "  with autocast():\n",
            "/usr/local/lib/python3.11/dist-packages/torch/amp/autocast_mode.py:266: UserWarning: User provided device_type of 'cuda', but CUDA is not available. Disabling\n",
            "  warnings.warn(\n",
            "Epoch 2/20 [Train]:  11%|█▏        | 31/275 [00:01<00:05, 43.69it/s, loss=0.2244, acc=0.9375]<ipython-input-7-df03fd10262a>:437: FutureWarning: `torch.cuda.amp.autocast(args...)` is deprecated. Please use `torch.amp.autocast('cuda', args...)` instead.\n",
            "  with autocast():\n",
            "/usr/local/lib/python3.11/dist-packages/torch/amp/autocast_mode.py:266: UserWarning: User provided device_type of 'cuda', but CUDA is not available. Disabling\n",
            "  warnings.warn(\n",
            "Epoch 2/20 [Train]:  18%|█▊        | 49/275 [00:01<00:04, 49.14it/s, loss=0.3436, acc=0.8750]<ipython-input-7-df03fd10262a>:437: FutureWarning: `torch.cuda.amp.autocast(args...)` is deprecated. Please use `torch.amp.autocast('cuda', args...)` instead.\n",
            "  with autocast():\n",
            "/usr/local/lib/python3.11/dist-packages/torch/amp/autocast_mode.py:266: UserWarning: User provided device_type of 'cuda', but CUDA is not available. Disabling\n",
            "  warnings.warn(\n",
            "Epoch 2/20 [Train]:  36%|███▌      | 98/275 [00:02<00:03, 55.40it/s, loss=0.3139, acc=0.8750]<ipython-input-7-df03fd10262a>:437: FutureWarning: `torch.cuda.amp.autocast(args...)` is deprecated. Please use `torch.amp.autocast('cuda', args...)` instead.\n",
            "  with autocast():\n",
            "/usr/local/lib/python3.11/dist-packages/torch/amp/autocast_mode.py:266: UserWarning: User provided device_type of 'cuda', but CUDA is not available. Disabling\n",
            "  warnings.warn(\n",
            "Epoch 2/20 [Train]:  55%|█████▌    | 152/275 [00:03<00:02, 54.27it/s, loss=0.2067, acc=0.8750]<ipython-input-7-df03fd10262a>:437: FutureWarning: `torch.cuda.amp.autocast(args...)` is deprecated. Please use `torch.amp.autocast('cuda', args...)` instead.\n",
            "  with autocast():\n",
            "/usr/local/lib/python3.11/dist-packages/torch/amp/autocast_mode.py:266: UserWarning: User provided device_type of 'cuda', but CUDA is not available. Disabling\n",
            "  warnings.warn(\n",
            "Epoch 2/20 [Train]:  92%|█████████▏| 254/275 [00:05<00:00, 51.60it/s, loss=0.2111, acc=0.8750]<ipython-input-7-df03fd10262a>:437: FutureWarning: `torch.cuda.amp.autocast(args...)` is deprecated. Please use `torch.amp.autocast('cuda', args...)` instead.\n",
            "  with autocast():\n",
            "/usr/local/lib/python3.11/dist-packages/torch/amp/autocast_mode.py:266: UserWarning: User provided device_type of 'cuda', but CUDA is not available. Disabling\n",
            "  warnings.warn(\n",
            "Epoch 2/20 [Train]:  99%|█████████▉| 272/275 [00:05<00:00, 53.14it/s, loss=0.2862, acc=0.9062]<ipython-input-7-df03fd10262a>:437: FutureWarning: `torch.cuda.amp.autocast(args...)` is deprecated. Please use `torch.amp.autocast('cuda', args...)` instead.\n",
            "  with autocast():\n",
            "/usr/local/lib/python3.11/dist-packages/torch/amp/autocast_mode.py:266: UserWarning: User provided device_type of 'cuda', but CUDA is not available. Disabling\n",
            "  warnings.warn(\n",
            "Epoch 2/20 [Train]: 100%|██████████| 275/275 [00:05<00:00, 48.90it/s, loss=0.7187, acc=0.6000]\n",
            "Epoch 2/20 [Val]: 100%|██████████| 40/40 [00:00<00:00, 60.99it/s, loss=0.3967, acc=0.8333]\n"
          ]
        },
        {
          "output_type": "stream",
          "name": "stdout",
          "text": [
            "Epoch [2/20] | Train Loss: 0.2652 | Train Acc: 0.8947 | Val Loss: 0.3781 | Val Acc: 0.8652 | Time: 6.29s | Total: 0.23m\n"
          ]
        },
        {
          "output_type": "stream",
          "name": "stderr",
          "text": [
            "\rEpoch 3/20 [Train]:   0%|          | 0/275 [00:00<?, ?it/s]<ipython-input-7-df03fd10262a>:437: FutureWarning: `torch.cuda.amp.autocast(args...)` is deprecated. Please use `torch.amp.autocast('cuda', args...)` instead.\n",
            "  with autocast():\n",
            "/usr/local/lib/python3.11/dist-packages/torch/amp/autocast_mode.py:266: UserWarning: User provided device_type of 'cuda', but CUDA is not available. Disabling\n",
            "  warnings.warn(\n",
            "Epoch 3/20 [Train]:  26%|██▌       | 72/275 [00:01<00:03, 52.77it/s, loss=0.1877, acc=0.9062]<ipython-input-7-df03fd10262a>:437: FutureWarning: `torch.cuda.amp.autocast(args...)` is deprecated. Please use `torch.amp.autocast('cuda', args...)` instead.\n",
            "  with autocast():\n",
            "/usr/local/lib/python3.11/dist-packages/torch/amp/autocast_mode.py:266: UserWarning: User provided device_type of 'cuda', but CUDA is not available. Disabling\n",
            "  warnings.warn(\n",
            "Epoch 3/20 [Train]:  41%|████▏     | 114/275 [00:02<00:03, 52.70it/s, loss=0.1480, acc=0.9062]<ipython-input-7-df03fd10262a>:437: FutureWarning: `torch.cuda.amp.autocast(args...)` is deprecated. Please use `torch.amp.autocast('cuda', args...)` instead.\n",
            "  with autocast():\n",
            "/usr/local/lib/python3.11/dist-packages/torch/amp/autocast_mode.py:266: UserWarning: User provided device_type of 'cuda', but CUDA is not available. Disabling\n",
            "  warnings.warn(\n",
            "Epoch 3/20 [Train]:  48%|████▊     | 132/275 [00:02<00:02, 51.54it/s, loss=0.1765, acc=0.9375]<ipython-input-7-df03fd10262a>:437: FutureWarning: `torch.cuda.amp.autocast(args...)` is deprecated. Please use `torch.amp.autocast('cuda', args...)` instead.\n",
            "  with autocast():\n",
            "/usr/local/lib/python3.11/dist-packages/torch/amp/autocast_mode.py:266: UserWarning: User provided device_type of 'cuda', but CUDA is not available. Disabling\n",
            "  warnings.warn(\n",
            "Epoch 3/20 [Train]:  78%|███████▊  | 215/275 [00:04<00:01, 43.15it/s, loss=0.4374, acc=0.7500]<ipython-input-7-df03fd10262a>:437: FutureWarning: `torch.cuda.amp.autocast(args...)` is deprecated. Please use `torch.amp.autocast('cuda', args...)` instead.\n",
            "  with autocast():\n",
            "/usr/local/lib/python3.11/dist-packages/torch/amp/autocast_mode.py:266: UserWarning: User provided device_type of 'cuda', but CUDA is not available. Disabling\n",
            "  warnings.warn(\n",
            "Epoch 3/20 [Train]:  84%|████████▎ | 230/275 [00:04<00:01, 40.07it/s, loss=0.3499, acc=0.8125]<ipython-input-7-df03fd10262a>:437: FutureWarning: `torch.cuda.amp.autocast(args...)` is deprecated. Please use `torch.amp.autocast('cuda', args...)` instead.\n",
            "  with autocast():\n",
            "/usr/local/lib/python3.11/dist-packages/torch/amp/autocast_mode.py:266: UserWarning: User provided device_type of 'cuda', but CUDA is not available. Disabling\n",
            "  warnings.warn(\n",
            "Epoch 3/20 [Train]:  98%|█████████▊| 270/275 [00:05<00:00, 39.75it/s, loss=0.3536, acc=0.7812]<ipython-input-7-df03fd10262a>:437: FutureWarning: `torch.cuda.amp.autocast(args...)` is deprecated. Please use `torch.amp.autocast('cuda', args...)` instead.\n",
            "  with autocast():\n",
            "/usr/local/lib/python3.11/dist-packages/torch/amp/autocast_mode.py:266: UserWarning: User provided device_type of 'cuda', but CUDA is not available. Disabling\n",
            "  warnings.warn(\n",
            "Epoch 3/20 [Train]: 100%|██████████| 275/275 [00:06<00:00, 45.37it/s, loss=0.7391, acc=0.6000]\n",
            "Epoch 3/20 [Val]: 100%|██████████| 40/40 [00:00<00:00, 42.31it/s, loss=0.3400, acc=0.8333]\n"
          ]
        },
        {
          "output_type": "stream",
          "name": "stdout",
          "text": [
            "Epoch [3/20] | Train Loss: 0.2345 | Train Acc: 0.8985 | Val Loss: 0.3723 | Val Acc: 0.8907 | Time: 7.02s | Total: 0.36m\n"
          ]
        },
        {
          "output_type": "stream",
          "name": "stderr",
          "text": [
            "Epoch 4/20 [Train]:   0%|          | 1/275 [00:00<01:29,  3.06it/s, loss=0.1552, acc=0.9062]<ipython-input-7-df03fd10262a>:437: FutureWarning: `torch.cuda.amp.autocast(args...)` is deprecated. Please use `torch.amp.autocast('cuda', args...)` instead.\n",
            "  with autocast():\n",
            "/usr/local/lib/python3.11/dist-packages/torch/amp/autocast_mode.py:266: UserWarning: User provided device_type of 'cuda', but CUDA is not available. Disabling\n",
            "  warnings.warn(\n",
            "Epoch 4/20 [Train]:  11%|█         | 30/275 [00:01<00:06, 36.15it/s, loss=0.0837, acc=0.9688]<ipython-input-7-df03fd10262a>:437: FutureWarning: `torch.cuda.amp.autocast(args...)` is deprecated. Please use `torch.amp.autocast('cuda', args...)` instead.\n",
            "  with autocast():\n",
            "/usr/local/lib/python3.11/dist-packages/torch/amp/autocast_mode.py:266: UserWarning: User provided device_type of 'cuda', but CUDA is not available. Disabling\n",
            "  warnings.warn(\n",
            "Epoch 4/20 [Train]:  37%|███▋      | 101/275 [00:02<00:04, 38.26it/s, loss=0.4268, acc=0.9062]<ipython-input-7-df03fd10262a>:437: FutureWarning: `torch.cuda.amp.autocast(args...)` is deprecated. Please use `torch.amp.autocast('cuda', args...)` instead.\n",
            "  with autocast():\n",
            "/usr/local/lib/python3.11/dist-packages/torch/amp/autocast_mode.py:266: UserWarning: User provided device_type of 'cuda', but CUDA is not available. Disabling\n",
            "  warnings.warn(\n",
            "Epoch 4/20 [Train]:  42%|████▏     | 115/275 [00:03<00:04, 39.72it/s, loss=0.2092, acc=0.9375]<ipython-input-7-df03fd10262a>:437: FutureWarning: `torch.cuda.amp.autocast(args...)` is deprecated. Please use `torch.amp.autocast('cuda', args...)` instead.\n",
            "  with autocast():\n",
            "/usr/local/lib/python3.11/dist-packages/torch/amp/autocast_mode.py:266: UserWarning: User provided device_type of 'cuda', but CUDA is not available. Disabling\n",
            "  warnings.warn(\n",
            "Epoch 4/20 [Train]:  54%|█████▍    | 149/275 [00:04<00:03, 39.50it/s, loss=0.1453, acc=0.9375]<ipython-input-7-df03fd10262a>:437: FutureWarning: `torch.cuda.amp.autocast(args...)` is deprecated. Please use `torch.amp.autocast('cuda', args...)` instead.\n",
            "  with autocast():\n",
            "/usr/local/lib/python3.11/dist-packages/torch/amp/autocast_mode.py:266: UserWarning: User provided device_type of 'cuda', but CUDA is not available. Disabling\n",
            "  warnings.warn(\n",
            "Epoch 4/20 [Train]:  85%|████████▍ | 233/275 [00:05<00:00, 52.74it/s, loss=0.1726, acc=0.9375]<ipython-input-7-df03fd10262a>:437: FutureWarning: `torch.cuda.amp.autocast(args...)` is deprecated. Please use `torch.amp.autocast('cuda', args...)` instead.\n",
            "  with autocast():\n",
            "/usr/local/lib/python3.11/dist-packages/torch/amp/autocast_mode.py:266: UserWarning: User provided device_type of 'cuda', but CUDA is not available. Disabling\n",
            "  warnings.warn(\n",
            "Epoch 4/20 [Train]:  91%|█████████ | 250/275 [00:06<00:00, 47.25it/s, loss=0.1797, acc=0.8750]<ipython-input-7-df03fd10262a>:437: FutureWarning: `torch.cuda.amp.autocast(args...)` is deprecated. Please use `torch.amp.autocast('cuda', args...)` instead.\n",
            "  with autocast():\n",
            "/usr/local/lib/python3.11/dist-packages/torch/amp/autocast_mode.py:266: UserWarning: User provided device_type of 'cuda', but CUDA is not available. Disabling\n",
            "  warnings.warn(\n",
            "Epoch 4/20 [Train]: 100%|██████████| 275/275 [00:06<00:00, 40.39it/s, loss=0.2025, acc=0.9000]\n",
            "Epoch 4/20 [Val]: 100%|██████████| 40/40 [00:00<00:00, 56.62it/s, loss=0.4675, acc=0.8333]\n"
          ]
        },
        {
          "output_type": "stream",
          "name": "stdout",
          "text": [
            "Epoch [4/20] | Train Loss: 0.1944 | Train Acc: 0.9189 | Val Loss: 0.2929 | Val Acc: 0.8963 | Time: 7.53s | Total: 0.49m\n"
          ]
        },
        {
          "output_type": "stream",
          "name": "stderr",
          "text": [
            "\rEpoch 5/20 [Train]:   0%|          | 0/275 [00:00<?, ?it/s]<ipython-input-7-df03fd10262a>:437: FutureWarning: `torch.cuda.amp.autocast(args...)` is deprecated. Please use `torch.amp.autocast('cuda', args...)` instead.\n",
            "  with autocast():\n",
            "/usr/local/lib/python3.11/dist-packages/torch/amp/autocast_mode.py:266: UserWarning: User provided device_type of 'cuda', but CUDA is not available. Disabling\n",
            "  warnings.warn(\n",
            "Epoch 5/20 [Train]:   2%|▏         | 6/275 [00:00<00:13, 20.40it/s, loss=0.1236, acc=0.9375]<ipython-input-7-df03fd10262a>:437: FutureWarning: `torch.cuda.amp.autocast(args...)` is deprecated. Please use `torch.amp.autocast('cuda', args...)` instead.\n",
            "  with autocast():\n",
            "/usr/local/lib/python3.11/dist-packages/torch/amp/autocast_mode.py:266: UserWarning: User provided device_type of 'cuda', but CUDA is not available. Disabling\n",
            "  warnings.warn(\n",
            "Epoch 5/20 [Train]:  16%|█▋        | 45/275 [00:01<00:04, 49.57it/s, loss=0.0982, acc=1.0000]<ipython-input-7-df03fd10262a>:437: FutureWarning: `torch.cuda.amp.autocast(args...)` is deprecated. Please use `torch.amp.autocast('cuda', args...)` instead.\n",
            "  with autocast():\n",
            "/usr/local/lib/python3.11/dist-packages/torch/amp/autocast_mode.py:266: UserWarning: User provided device_type of 'cuda', but CUDA is not available. Disabling\n",
            "  warnings.warn(\n",
            "Epoch 5/20 [Train]:  49%|████▊     | 134/275 [00:02<00:03, 45.28it/s, loss=0.3441, acc=0.8750]<ipython-input-7-df03fd10262a>:437: FutureWarning: `torch.cuda.amp.autocast(args...)` is deprecated. Please use `torch.amp.autocast('cuda', args...)` instead.\n",
            "  with autocast():\n",
            "/usr/local/lib/python3.11/dist-packages/torch/amp/autocast_mode.py:266: UserWarning: User provided device_type of 'cuda', but CUDA is not available. Disabling\n",
            "  warnings.warn(\n",
            "Epoch 5/20 [Train]:  54%|█████▍    | 149/275 [00:03<00:03, 39.83it/s, loss=0.1530, acc=0.9375]<ipython-input-7-df03fd10262a>:437: FutureWarning: `torch.cuda.amp.autocast(args...)` is deprecated. Please use `torch.amp.autocast('cuda', args...)` instead.\n",
            "  with autocast():\n",
            "/usr/local/lib/python3.11/dist-packages/torch/amp/autocast_mode.py:266: UserWarning: User provided device_type of 'cuda', but CUDA is not available. Disabling\n",
            "  warnings.warn(\n",
            "Epoch 5/20 [Train]:  77%|███████▋  | 213/275 [00:04<00:01, 39.10it/s, loss=0.2158, acc=0.9062]<ipython-input-7-df03fd10262a>:437: FutureWarning: `torch.cuda.amp.autocast(args...)` is deprecated. Please use `torch.amp.autocast('cuda', args...)` instead.\n",
            "  with autocast():\n",
            "/usr/local/lib/python3.11/dist-packages/torch/amp/autocast_mode.py:266: UserWarning: User provided device_type of 'cuda', but CUDA is not available. Disabling\n",
            "  warnings.warn(\n",
            "Epoch 5/20 [Train]:  83%|████████▎ | 227/275 [00:05<00:01, 39.95it/s, loss=0.0962, acc=0.9688]<ipython-input-7-df03fd10262a>:437: FutureWarning: `torch.cuda.amp.autocast(args...)` is deprecated. Please use `torch.amp.autocast('cuda', args...)` instead.\n",
            "  with autocast():\n",
            "/usr/local/lib/python3.11/dist-packages/torch/amp/autocast_mode.py:266: UserWarning: User provided device_type of 'cuda', but CUDA is not available. Disabling\n",
            "  warnings.warn(\n",
            "Epoch 5/20 [Train]:  95%|█████████▍| 260/275 [00:06<00:00, 40.07it/s, loss=0.0769, acc=0.9688]<ipython-input-7-df03fd10262a>:437: FutureWarning: `torch.cuda.amp.autocast(args...)` is deprecated. Please use `torch.amp.autocast('cuda', args...)` instead.\n",
            "  with autocast():\n",
            "/usr/local/lib/python3.11/dist-packages/torch/amp/autocast_mode.py:266: UserWarning: User provided device_type of 'cuda', but CUDA is not available. Disabling\n",
            "  warnings.warn(\n",
            "Epoch 5/20 [Train]: 100%|██████████| 275/275 [00:06<00:00, 40.95it/s, loss=0.4085, acc=0.8000]\n",
            "Epoch 5/20 [Val]: 100%|██████████| 40/40 [00:00<00:00, 54.63it/s, loss=0.3555, acc=0.8333]\n"
          ]
        },
        {
          "output_type": "stream",
          "name": "stdout",
          "text": [
            "Epoch [5/20] | Train Loss: 0.1881 | Train Acc: 0.9224 | Val Loss: 0.3699 | Val Acc: 0.8947 | Time: 7.46s | Total: 0.62m\n"
          ]
        },
        {
          "output_type": "stream",
          "name": "stderr",
          "text": [
            "Epoch 6/20 [Train]:   0%|          | 0/275 [00:00<?, ?it/s]<ipython-input-7-df03fd10262a>:437: FutureWarning: `torch.cuda.amp.autocast(args...)` is deprecated. Please use `torch.amp.autocast('cuda', args...)` instead.\n",
            "  with autocast():\n",
            "/usr/local/lib/python3.11/dist-packages/torch/amp/autocast_mode.py:266: UserWarning: User provided device_type of 'cuda', but CUDA is not available. Disabling\n",
            "  warnings.warn(\n",
            "Epoch 6/20 [Train]:   0%|          | 1/275 [00:00<01:22,  3.34it/s, loss=0.2824, acc=0.9375]<ipython-input-7-df03fd10262a>:437: FutureWarning: `torch.cuda.amp.autocast(args...)` is deprecated. Please use `torch.amp.autocast('cuda', args...)` instead.\n",
            "  with autocast():\n",
            "/usr/local/lib/python3.11/dist-packages/torch/amp/autocast_mode.py:266: UserWarning: User provided device_type of 'cuda', but CUDA is not available. Disabling\n",
            "  warnings.warn(\n",
            "Epoch 6/20 [Train]:  16%|█▌        | 43/275 [00:01<00:04, 48.56it/s, loss=0.1673, acc=0.9062]<ipython-input-7-df03fd10262a>:437: FutureWarning: `torch.cuda.amp.autocast(args...)` is deprecated. Please use `torch.amp.autocast('cuda', args...)` instead.\n",
            "  with autocast():\n",
            "/usr/local/lib/python3.11/dist-packages/torch/amp/autocast_mode.py:266: UserWarning: User provided device_type of 'cuda', but CUDA is not available. Disabling\n",
            "  warnings.warn(\n",
            "Epoch 6/20 [Train]:  37%|███▋      | 103/275 [00:02<00:03, 52.51it/s, loss=0.0833, acc=1.0000]<ipython-input-7-df03fd10262a>:437: FutureWarning: `torch.cuda.amp.autocast(args...)` is deprecated. Please use `torch.amp.autocast('cuda', args...)` instead.\n",
            "  with autocast():\n",
            "/usr/local/lib/python3.11/dist-packages/torch/amp/autocast_mode.py:266: UserWarning: User provided device_type of 'cuda', but CUDA is not available. Disabling\n",
            "  warnings.warn(\n",
            "Epoch 6/20 [Train]:  55%|█████▍    | 151/275 [00:03<00:02, 51.60it/s, loss=0.1262, acc=0.9375]<ipython-input-7-df03fd10262a>:437: FutureWarning: `torch.cuda.amp.autocast(args...)` is deprecated. Please use `torch.amp.autocast('cuda', args...)` instead.\n",
            "  with autocast():\n",
            "/usr/local/lib/python3.11/dist-packages/torch/amp/autocast_mode.py:266: UserWarning: User provided device_type of 'cuda', but CUDA is not available. Disabling\n",
            "  warnings.warn(\n",
            "Epoch 6/20 [Train]:  75%|███████▍  | 205/275 [00:04<00:01, 52.68it/s, loss=0.2104, acc=0.9062]<ipython-input-7-df03fd10262a>:437: FutureWarning: `torch.cuda.amp.autocast(args...)` is deprecated. Please use `torch.amp.autocast('cuda', args...)` instead.\n",
            "  with autocast():\n",
            "/usr/local/lib/python3.11/dist-packages/torch/amp/autocast_mode.py:266: UserWarning: User provided device_type of 'cuda', but CUDA is not available. Disabling\n",
            "  warnings.warn(\n",
            "Epoch 6/20 [Train]:  94%|█████████▍| 259/275 [00:05<00:00, 52.13it/s, loss=0.1831, acc=0.9062]<ipython-input-7-df03fd10262a>:437: FutureWarning: `torch.cuda.amp.autocast(args...)` is deprecated. Please use `torch.amp.autocast('cuda', args...)` instead.\n",
            "  with autocast():\n",
            "/usr/local/lib/python3.11/dist-packages/torch/amp/autocast_mode.py:266: UserWarning: User provided device_type of 'cuda', but CUDA is not available. Disabling\n",
            "  warnings.warn(\n",
            "Epoch 6/20 [Train]: 100%|██████████| 275/275 [00:05<00:00, 49.58it/s, loss=0.5292, acc=0.8000]\n",
            "Epoch 6/20 [Val]: 100%|██████████| 40/40 [00:00<00:00, 61.79it/s, loss=0.2669, acc=0.8333]\n"
          ]
        },
        {
          "output_type": "stream",
          "name": "stdout",
          "text": [
            "Epoch [6/20] | Train Loss: 0.1665 | Train Acc: 0.9303 | Val Loss: 0.3453 | Val Acc: 0.9075 | Time: 6.20s | Total: 0.73m\n"
          ]
        },
        {
          "output_type": "stream",
          "name": "stderr",
          "text": [
            "\rEpoch 7/20 [Train]:   0%|          | 0/275 [00:00<?, ?it/s]<ipython-input-7-df03fd10262a>:437: FutureWarning: `torch.cuda.amp.autocast(args...)` is deprecated. Please use `torch.amp.autocast('cuda', args...)` instead.\n",
            "  with autocast():\n",
            "/usr/local/lib/python3.11/dist-packages/torch/amp/autocast_mode.py:266: UserWarning: User provided device_type of 'cuda', but CUDA is not available. Disabling\n",
            "  warnings.warn(\n",
            "Epoch 7/20 [Train]:  26%|██▌       | 71/275 [00:01<00:03, 55.09it/s, loss=0.0594, acc=0.9688]<ipython-input-7-df03fd10262a>:437: FutureWarning: `torch.cuda.amp.autocast(args...)` is deprecated. Please use `torch.amp.autocast('cuda', args...)` instead.\n",
            "  with autocast():\n",
            "/usr/local/lib/python3.11/dist-packages/torch/amp/autocast_mode.py:266: UserWarning: User provided device_type of 'cuda', but CUDA is not available. Disabling\n",
            "  warnings.warn(\n",
            "Epoch 7/20 [Train]:  30%|███       | 83/275 [00:01<00:03, 53.65it/s, loss=0.1463, acc=0.9375]<ipython-input-7-df03fd10262a>:437: FutureWarning: `torch.cuda.amp.autocast(args...)` is deprecated. Please use `torch.amp.autocast('cuda', args...)` instead.\n",
            "  with autocast():\n",
            "/usr/local/lib/python3.11/dist-packages/torch/amp/autocast_mode.py:266: UserWarning: User provided device_type of 'cuda', but CUDA is not available. Disabling\n",
            "  warnings.warn(\n",
            "Epoch 7/20 [Train]:  60%|██████    | 166/275 [00:03<00:02, 43.67it/s, loss=0.1803, acc=0.9062]<ipython-input-7-df03fd10262a>:437: FutureWarning: `torch.cuda.amp.autocast(args...)` is deprecated. Please use `torch.amp.autocast('cuda', args...)` instead.\n",
            "  with autocast():\n",
            "/usr/local/lib/python3.11/dist-packages/torch/amp/autocast_mode.py:266: UserWarning: User provided device_type of 'cuda', but CUDA is not available. Disabling\n",
            "  warnings.warn(\n",
            "Epoch 7/20 [Train]:  66%|██████▌   | 181/275 [00:03<00:02, 41.48it/s, loss=0.4153, acc=0.8438]<ipython-input-7-df03fd10262a>:437: FutureWarning: `torch.cuda.amp.autocast(args...)` is deprecated. Please use `torch.amp.autocast('cuda', args...)` instead.\n",
            "  with autocast():\n",
            "/usr/local/lib/python3.11/dist-packages/torch/amp/autocast_mode.py:266: UserWarning: User provided device_type of 'cuda', but CUDA is not available. Disabling\n",
            "  warnings.warn(\n",
            "Epoch 7/20 [Train]:  77%|███████▋  | 213/275 [00:04<00:01, 39.93it/s, loss=0.1469, acc=0.9062]<ipython-input-7-df03fd10262a>:437: FutureWarning: `torch.cuda.amp.autocast(args...)` is deprecated. Please use `torch.amp.autocast('cuda', args...)` instead.\n",
            "  with autocast():\n",
            "/usr/local/lib/python3.11/dist-packages/torch/amp/autocast_mode.py:266: UserWarning: User provided device_type of 'cuda', but CUDA is not available. Disabling\n",
            "  warnings.warn(\n",
            "Epoch 7/20 [Train]: 100%|██████████| 275/275 [00:06<00:00, 42.51it/s, loss=0.3613, acc=0.8000]\n",
            "Epoch 7/20 [Val]: 100%|██████████| 40/40 [00:00<00:00, 53.34it/s, loss=0.3283, acc=0.8333]\n"
          ]
        },
        {
          "output_type": "stream",
          "name": "stdout",
          "text": [
            "Epoch [7/20] | Train Loss: 0.1575 | Train Acc: 0.9355 | Val Loss: 0.3080 | Val Acc: 0.9027 | Time: 7.23s | Total: 0.86m\n"
          ]
        },
        {
          "output_type": "stream",
          "name": "stderr",
          "text": [
            "\rEpoch 8/20 [Train]:   0%|          | 0/275 [00:00<?, ?it/s]<ipython-input-7-df03fd10262a>:437: FutureWarning: `torch.cuda.amp.autocast(args...)` is deprecated. Please use `torch.amp.autocast('cuda', args...)` instead.\n",
            "  with autocast():\n",
            "/usr/local/lib/python3.11/dist-packages/torch/amp/autocast_mode.py:266: UserWarning: User provided device_type of 'cuda', but CUDA is not available. Disabling\n",
            "  warnings.warn(\n",
            "Epoch 8/20 [Train]:  12%|█▏        | 33/275 [00:00<00:05, 45.49it/s, loss=0.2993, acc=0.8750]<ipython-input-7-df03fd10262a>:437: FutureWarning: `torch.cuda.amp.autocast(args...)` is deprecated. Please use `torch.amp.autocast('cuda', args...)` instead.\n",
            "  with autocast():\n",
            "/usr/local/lib/python3.11/dist-packages/torch/amp/autocast_mode.py:266: UserWarning: User provided device_type of 'cuda', but CUDA is not available. Disabling\n",
            "  warnings.warn(\n",
            "Epoch 8/20 [Train]:  18%|█▊        | 50/275 [00:01<00:04, 48.56it/s, loss=0.1263, acc=0.9375]<ipython-input-7-df03fd10262a>:437: FutureWarning: `torch.cuda.amp.autocast(args...)` is deprecated. Please use `torch.amp.autocast('cuda', args...)` instead.\n",
            "  with autocast():\n",
            "/usr/local/lib/python3.11/dist-packages/torch/amp/autocast_mode.py:266: UserWarning: User provided device_type of 'cuda', but CUDA is not available. Disabling\n",
            "  warnings.warn(\n",
            "Epoch 8/20 [Train]:  35%|███▌      | 97/275 [00:02<00:03, 53.90it/s, loss=0.1839, acc=0.8750]<ipython-input-7-df03fd10262a>:437: FutureWarning: `torch.cuda.amp.autocast(args...)` is deprecated. Please use `torch.amp.autocast('cuda', args...)` instead.\n",
            "  with autocast():\n",
            "/usr/local/lib/python3.11/dist-packages/torch/amp/autocast_mode.py:266: UserWarning: User provided device_type of 'cuda', but CUDA is not available. Disabling\n",
            "  warnings.warn(\n",
            "Epoch 8/20 [Train]:  57%|█████▋    | 157/275 [00:03<00:02, 54.68it/s, loss=0.0997, acc=0.9688]<ipython-input-7-df03fd10262a>:437: FutureWarning: `torch.cuda.amp.autocast(args...)` is deprecated. Please use `torch.amp.autocast('cuda', args...)` instead.\n",
            "  with autocast():\n",
            "/usr/local/lib/python3.11/dist-packages/torch/amp/autocast_mode.py:266: UserWarning: User provided device_type of 'cuda', but CUDA is not available. Disabling\n",
            "  warnings.warn(\n",
            "Epoch 8/20 [Train]:  75%|███████▍  | 205/275 [00:04<00:01, 52.56it/s, loss=0.0955, acc=1.0000]<ipython-input-7-df03fd10262a>:437: FutureWarning: `torch.cuda.amp.autocast(args...)` is deprecated. Please use `torch.amp.autocast('cuda', args...)` instead.\n",
            "  with autocast():\n",
            "/usr/local/lib/python3.11/dist-packages/torch/amp/autocast_mode.py:266: UserWarning: User provided device_type of 'cuda', but CUDA is not available. Disabling\n",
            "  warnings.warn(\n",
            "Epoch 8/20 [Train]: 100%|██████████| 275/275 [00:05<00:00, 49.00it/s, loss=0.1419, acc=0.9000]\n",
            "Epoch 8/20 [Val]: 100%|██████████| 40/40 [00:00<00:00, 58.25it/s, loss=0.2096, acc=0.8333]\n"
          ]
        },
        {
          "output_type": "stream",
          "name": "stdout",
          "text": [
            "Epoch [8/20] | Train Loss: 0.1544 | Train Acc: 0.9360 | Val Loss: 0.3101 | Val Acc: 0.9099 | Time: 6.31s | Total: 0.97m\n"
          ]
        },
        {
          "output_type": "stream",
          "name": "stderr",
          "text": [
            "\rEpoch 9/20 [Train]:   0%|          | 0/275 [00:00<?, ?it/s]<ipython-input-7-df03fd10262a>:437: FutureWarning: `torch.cuda.amp.autocast(args...)` is deprecated. Please use `torch.amp.autocast('cuda', args...)` instead.\n",
            "  with autocast():\n",
            "/usr/local/lib/python3.11/dist-packages/torch/amp/autocast_mode.py:266: UserWarning: User provided device_type of 'cuda', but CUDA is not available. Disabling\n",
            "  warnings.warn(\n",
            "Epoch 9/20 [Train]:  20%|██        | 55/275 [00:01<00:04, 51.43it/s, loss=0.1069, acc=0.9688]<ipython-input-7-df03fd10262a>:437: FutureWarning: `torch.cuda.amp.autocast(args...)` is deprecated. Please use `torch.amp.autocast('cuda', args...)` instead.\n",
            "  with autocast():\n",
            "/usr/local/lib/python3.11/dist-packages/torch/amp/autocast_mode.py:266: UserWarning: User provided device_type of 'cuda', but CUDA is not available. Disabling\n",
            "  warnings.warn(\n",
            "Epoch 9/20 [Train]:  37%|███▋      | 103/275 [00:02<00:03, 52.60it/s, loss=0.3335, acc=0.8750]<ipython-input-7-df03fd10262a>:437: FutureWarning: `torch.cuda.amp.autocast(args...)` is deprecated. Please use `torch.amp.autocast('cuda', args...)` instead.\n",
            "  with autocast():\n",
            "/usr/local/lib/python3.11/dist-packages/torch/amp/autocast_mode.py:266: UserWarning: User provided device_type of 'cuda', but CUDA is not available. Disabling\n",
            "  warnings.warn(\n",
            "Epoch 9/20 [Train]:  42%|████▏     | 115/275 [00:02<00:03, 49.58it/s, loss=0.0621, acc=0.9688]<ipython-input-7-df03fd10262a>:437: FutureWarning: `torch.cuda.amp.autocast(args...)` is deprecated. Please use `torch.amp.autocast('cuda', args...)` instead.\n",
            "  with autocast():\n",
            "/usr/local/lib/python3.11/dist-packages/torch/amp/autocast_mode.py:266: UserWarning: User provided device_type of 'cuda', but CUDA is not available. Disabling\n",
            "  warnings.warn(\n",
            "Epoch 9/20 [Train]:  67%|██████▋   | 183/275 [00:04<00:02, 34.82it/s, loss=0.1173, acc=0.9375]<ipython-input-7-df03fd10262a>:437: FutureWarning: `torch.cuda.amp.autocast(args...)` is deprecated. Please use `torch.amp.autocast('cuda', args...)` instead.\n",
            "  with autocast():\n",
            "/usr/local/lib/python3.11/dist-packages/torch/amp/autocast_mode.py:266: UserWarning: User provided device_type of 'cuda', but CUDA is not available. Disabling\n",
            "  warnings.warn(\n",
            "Epoch 9/20 [Train]:  71%|███████   | 195/275 [00:04<00:02, 34.58it/s, loss=0.0551, acc=1.0000]<ipython-input-7-df03fd10262a>:437: FutureWarning: `torch.cuda.amp.autocast(args...)` is deprecated. Please use `torch.amp.autocast('cuda', args...)` instead.\n",
            "  with autocast():\n",
            "/usr/local/lib/python3.11/dist-packages/torch/amp/autocast_mode.py:266: UserWarning: User provided device_type of 'cuda', but CUDA is not available. Disabling\n",
            "  warnings.warn(\n",
            "Epoch 9/20 [Train]:  94%|█████████▍| 258/275 [00:06<00:00, 37.20it/s, loss=0.3444, acc=0.9375]<ipython-input-7-df03fd10262a>:437: FutureWarning: `torch.cuda.amp.autocast(args...)` is deprecated. Please use `torch.amp.autocast('cuda', args...)` instead.\n",
            "  with autocast():\n",
            "/usr/local/lib/python3.11/dist-packages/torch/amp/autocast_mode.py:266: UserWarning: User provided device_type of 'cuda', but CUDA is not available. Disabling\n",
            "  warnings.warn(\n",
            "Epoch 9/20 [Train]:  97%|█████████▋| 266/275 [00:06<00:00, 36.05it/s, loss=0.1343, acc=0.9375]<ipython-input-7-df03fd10262a>:437: FutureWarning: `torch.cuda.amp.autocast(args...)` is deprecated. Please use `torch.amp.autocast('cuda', args...)` instead.\n",
            "  with autocast():\n",
            "/usr/local/lib/python3.11/dist-packages/torch/amp/autocast_mode.py:266: UserWarning: User provided device_type of 'cuda', but CUDA is not available. Disabling\n",
            "  warnings.warn(\n",
            "Epoch 9/20 [Train]: 100%|██████████| 275/275 [00:06<00:00, 40.53it/s, loss=0.5851, acc=0.9000]\n",
            "Epoch 9/20 [Val]: 100%|██████████| 40/40 [00:00<00:00, 60.14it/s, loss=0.3273, acc=0.8333]\n"
          ]
        },
        {
          "output_type": "stream",
          "name": "stdout",
          "text": [
            "Epoch [9/20] | Train Loss: 0.1309 | Train Acc: 0.9446 | Val Loss: 0.2922 | Val Acc: 0.9059 | Time: 7.46s | Total: 1.10m\n"
          ]
        },
        {
          "output_type": "stream",
          "name": "stderr",
          "text": [
            "Epoch 10/20 [Train]:   5%|▌         | 15/275 [00:00<00:07, 35.92it/s, loss=0.0870, acc=0.9688]<ipython-input-7-df03fd10262a>:437: FutureWarning: `torch.cuda.amp.autocast(args...)` is deprecated. Please use `torch.amp.autocast('cuda', args...)` instead.\n",
            "  with autocast():\n",
            "/usr/local/lib/python3.11/dist-packages/torch/amp/autocast_mode.py:266: UserWarning: User provided device_type of 'cuda', but CUDA is not available. Disabling\n",
            "  warnings.warn(\n",
            "Epoch 10/20 [Train]:  38%|███▊      | 104/275 [00:02<00:03, 51.91it/s, loss=0.1345, acc=0.9375]<ipython-input-7-df03fd10262a>:437: FutureWarning: `torch.cuda.amp.autocast(args...)` is deprecated. Please use `torch.amp.autocast('cuda', args...)` instead.\n",
            "  with autocast():\n",
            "/usr/local/lib/python3.11/dist-packages/torch/amp/autocast_mode.py:266: UserWarning: User provided device_type of 'cuda', but CUDA is not available. Disabling\n",
            "  warnings.warn(\n",
            "Epoch 10/20 [Train]:  44%|████▍     | 122/275 [00:02<00:03, 50.59it/s, loss=0.1112, acc=0.9688]<ipython-input-7-df03fd10262a>:437: FutureWarning: `torch.cuda.amp.autocast(args...)` is deprecated. Please use `torch.amp.autocast('cuda', args...)` instead.\n",
            "  with autocast():\n",
            "/usr/local/lib/python3.11/dist-packages/torch/amp/autocast_mode.py:266: UserWarning: User provided device_type of 'cuda', but CUDA is not available. Disabling\n",
            "  warnings.warn(\n",
            "Epoch 10/20 [Train]:  62%|██████▏   | 170/275 [00:03<00:01, 54.71it/s, loss=0.0328, acc=1.0000]<ipython-input-7-df03fd10262a>:437: FutureWarning: `torch.cuda.amp.autocast(args...)` is deprecated. Please use `torch.amp.autocast('cuda', args...)` instead.\n",
            "  with autocast():\n",
            "/usr/local/lib/python3.11/dist-packages/torch/amp/autocast_mode.py:266: UserWarning: User provided device_type of 'cuda', but CUDA is not available. Disabling\n",
            "  warnings.warn(\n",
            "Epoch 10/20 [Train]:  77%|███████▋  | 212/275 [00:04<00:01, 50.57it/s, loss=0.0879, acc=0.9375]<ipython-input-7-df03fd10262a>:437: FutureWarning: `torch.cuda.amp.autocast(args...)` is deprecated. Please use `torch.amp.autocast('cuda', args...)` instead.\n",
            "  with autocast():\n",
            "/usr/local/lib/python3.11/dist-packages/torch/amp/autocast_mode.py:266: UserWarning: User provided device_type of 'cuda', but CUDA is not available. Disabling\n",
            "  warnings.warn(\n",
            "Epoch 10/20 [Train]:  97%|█████████▋| 266/275 [00:05<00:00, 52.60it/s, loss=0.1437, acc=0.9688]<ipython-input-7-df03fd10262a>:437: FutureWarning: `torch.cuda.amp.autocast(args...)` is deprecated. Please use `torch.amp.autocast('cuda', args...)` instead.\n",
            "  with autocast():\n",
            "/usr/local/lib/python3.11/dist-packages/torch/amp/autocast_mode.py:266: UserWarning: User provided device_type of 'cuda', but CUDA is not available. Disabling\n",
            "  warnings.warn(\n",
            "Epoch 10/20 [Train]: 100%|██████████| 275/275 [00:05<00:00, 48.99it/s, loss=0.2970, acc=0.8000]\n",
            "Epoch 10/20 [Val]: 100%|██████████| 40/40 [00:00<00:00, 59.92it/s, loss=0.3538, acc=0.8333]\n"
          ]
        },
        {
          "output_type": "stream",
          "name": "stdout",
          "text": [
            "Epoch [10/20] | Train Loss: 0.1142 | Train Acc: 0.9540 | Val Loss: 0.3055 | Val Acc: 0.9051 | Time: 6.30s | Total: 1.21m\n"
          ]
        },
        {
          "output_type": "stream",
          "name": "stderr",
          "text": [
            "Epoch 11/20 [Train]:  11%|█         | 29/275 [00:00<00:05, 46.72it/s, loss=0.0577, acc=0.9688]<ipython-input-7-df03fd10262a>:437: FutureWarning: `torch.cuda.amp.autocast(args...)` is deprecated. Please use `torch.amp.autocast('cuda', args...)` instead.\n",
            "  with autocast():\n",
            "/usr/local/lib/python3.11/dist-packages/torch/amp/autocast_mode.py:266: UserWarning: User provided device_type of 'cuda', but CUDA is not available. Disabling\n",
            "  warnings.warn(\n",
            "Epoch 11/20 [Train]:  26%|██▌       | 71/275 [00:01<00:04, 46.59it/s, loss=0.0721, acc=1.0000]<ipython-input-7-df03fd10262a>:437: FutureWarning: `torch.cuda.amp.autocast(args...)` is deprecated. Please use `torch.amp.autocast('cuda', args...)` instead.\n",
            "  with autocast():\n",
            "/usr/local/lib/python3.11/dist-packages/torch/amp/autocast_mode.py:266: UserWarning: User provided device_type of 'cuda', but CUDA is not available. Disabling\n",
            "  warnings.warn(\n",
            "Epoch 11/20 [Train]:  32%|███▏      | 88/275 [00:02<00:03, 51.69it/s, loss=0.0893, acc=0.9688]<ipython-input-7-df03fd10262a>:437: FutureWarning: `torch.cuda.amp.autocast(args...)` is deprecated. Please use `torch.amp.autocast('cuda', args...)` instead.\n",
            "  with autocast():\n",
            "/usr/local/lib/python3.11/dist-packages/torch/amp/autocast_mode.py:266: UserWarning: User provided device_type of 'cuda', but CUDA is not available. Disabling\n",
            "  warnings.warn(\n",
            "Epoch 11/20 [Train]:  45%|████▌     | 124/275 [00:02<00:03, 39.39it/s, loss=0.0799, acc=0.9688]<ipython-input-7-df03fd10262a>:437: FutureWarning: `torch.cuda.amp.autocast(args...)` is deprecated. Please use `torch.amp.autocast('cuda', args...)` instead.\n",
            "  with autocast():\n",
            "/usr/local/lib/python3.11/dist-packages/torch/amp/autocast_mode.py:266: UserWarning: User provided device_type of 'cuda', but CUDA is not available. Disabling\n",
            "  warnings.warn(\n",
            "Epoch 11/20 [Train]:  57%|█████▋    | 157/275 [00:03<00:03, 35.54it/s, loss=0.0543, acc=0.9688]<ipython-input-7-df03fd10262a>:437: FutureWarning: `torch.cuda.amp.autocast(args...)` is deprecated. Please use `torch.amp.autocast('cuda', args...)` instead.\n",
            "  with autocast():\n",
            "/usr/local/lib/python3.11/dist-packages/torch/amp/autocast_mode.py:266: UserWarning: User provided device_type of 'cuda', but CUDA is not available. Disabling\n",
            "  warnings.warn(\n",
            "Epoch 11/20 [Train]:  74%|███████▍  | 204/275 [00:05<00:01, 40.68it/s, loss=0.1525, acc=0.9375]<ipython-input-7-df03fd10262a>:437: FutureWarning: `torch.cuda.amp.autocast(args...)` is deprecated. Please use `torch.amp.autocast('cuda', args...)` instead.\n",
            "  with autocast():\n",
            "/usr/local/lib/python3.11/dist-packages/torch/amp/autocast_mode.py:266: UserWarning: User provided device_type of 'cuda', but CUDA is not available. Disabling\n",
            "  warnings.warn(\n",
            "Epoch 11/20 [Train]:  86%|████████▌ | 237/275 [00:05<00:01, 36.30it/s, loss=0.1183, acc=0.9688]<ipython-input-7-df03fd10262a>:437: FutureWarning: `torch.cuda.amp.autocast(args...)` is deprecated. Please use `torch.amp.autocast('cuda', args...)` instead.\n",
            "  with autocast():\n",
            "/usr/local/lib/python3.11/dist-packages/torch/amp/autocast_mode.py:266: UserWarning: User provided device_type of 'cuda', but CUDA is not available. Disabling\n",
            "  warnings.warn(\n",
            "Epoch 11/20 [Train]: 100%|██████████| 275/275 [00:06<00:00, 40.03it/s, loss=0.2600, acc=0.8000]\n",
            "Epoch 11/20 [Val]: 100%|██████████| 40/40 [00:00<00:00, 61.93it/s, loss=0.1854, acc=0.8333]\n"
          ]
        },
        {
          "output_type": "stream",
          "name": "stdout",
          "text": [
            "Epoch [11/20] | Train Loss: 0.1090 | Train Acc: 0.9559 | Val Loss: 0.2882 | Val Acc: 0.8868 | Time: 7.53s | Total: 1.34m\n"
          ]
        },
        {
          "output_type": "stream",
          "name": "stderr",
          "text": [
            "\rEpoch 12/20 [Train]:   0%|          | 0/275 [00:00<?, ?it/s]<ipython-input-7-df03fd10262a>:437: FutureWarning: `torch.cuda.amp.autocast(args...)` is deprecated. Please use `torch.amp.autocast('cuda', args...)` instead.\n",
            "  with autocast():\n",
            "/usr/local/lib/python3.11/dist-packages/torch/amp/autocast_mode.py:266: UserWarning: User provided device_type of 'cuda', but CUDA is not available. Disabling\n",
            "  warnings.warn(\n",
            "Epoch 12/20 [Train]:  11%|█         | 30/275 [00:00<00:05, 46.57it/s, loss=0.0588, acc=1.0000]<ipython-input-7-df03fd10262a>:437: FutureWarning: `torch.cuda.amp.autocast(args...)` is deprecated. Please use `torch.amp.autocast('cuda', args...)` instead.\n",
            "  with autocast():\n",
            "/usr/local/lib/python3.11/dist-packages/torch/amp/autocast_mode.py:266: UserWarning: User provided device_type of 'cuda', but CUDA is not available. Disabling\n",
            "  warnings.warn(\n",
            "Epoch 12/20 [Train]:  27%|██▋       | 75/275 [00:01<00:03, 51.64it/s, loss=0.0310, acc=1.0000]<ipython-input-7-df03fd10262a>:437: FutureWarning: `torch.cuda.amp.autocast(args...)` is deprecated. Please use `torch.amp.autocast('cuda', args...)` instead.\n",
            "  with autocast():\n",
            "/usr/local/lib/python3.11/dist-packages/torch/amp/autocast_mode.py:266: UserWarning: User provided device_type of 'cuda', but CUDA is not available. Disabling\n",
            "  warnings.warn(\n",
            "Epoch 12/20 [Train]:  32%|███▏      | 87/275 [00:02<00:03, 50.61it/s, loss=0.2373, acc=0.8750]<ipython-input-7-df03fd10262a>:437: FutureWarning: `torch.cuda.amp.autocast(args...)` is deprecated. Please use `torch.amp.autocast('cuda', args...)` instead.\n",
            "  with autocast():\n",
            "/usr/local/lib/python3.11/dist-packages/torch/amp/autocast_mode.py:266: UserWarning: User provided device_type of 'cuda', but CUDA is not available. Disabling\n",
            "  warnings.warn(\n",
            "Epoch 12/20 [Train]:  52%|█████▏    | 142/275 [00:02<00:02, 55.09it/s, loss=0.1036, acc=0.9688]<ipython-input-7-df03fd10262a>:437: FutureWarning: `torch.cuda.amp.autocast(args...)` is deprecated. Please use `torch.amp.autocast('cuda', args...)` instead.\n",
            "  with autocast():\n",
            "/usr/local/lib/python3.11/dist-packages/torch/amp/autocast_mode.py:266: UserWarning: User provided device_type of 'cuda', but CUDA is not available. Disabling\n",
            "  warnings.warn(\n",
            "Epoch 12/20 [Train]:  69%|██████▉   | 190/275 [00:03<00:01, 53.82it/s, loss=0.1133, acc=0.9375]<ipython-input-7-df03fd10262a>:437: FutureWarning: `torch.cuda.amp.autocast(args...)` is deprecated. Please use `torch.amp.autocast('cuda', args...)` instead.\n",
            "  with autocast():\n",
            "/usr/local/lib/python3.11/dist-packages/torch/amp/autocast_mode.py:266: UserWarning: User provided device_type of 'cuda', but CUDA is not available. Disabling\n",
            "  warnings.warn(\n",
            "Epoch 12/20 [Train]:  84%|████████▍ | 232/275 [00:04<00:00, 50.63it/s, loss=0.0324, acc=1.0000]/usr/local/lib/python3.11/dist-packages/torch/amp/autocast_mode.py:266: UserWarning: User provided device_type of 'cuda', but CUDA is not available. Disabling\n",
            "  warnings.warn(\n",
            "Epoch 12/20 [Train]:  84%|████████▍ | 232/275 [00:04<00:00, 50.63it/s, loss=0.0875, acc=0.9688]<ipython-input-7-df03fd10262a>:437: FutureWarning: `torch.cuda.amp.autocast(args...)` is deprecated. Please use `torch.amp.autocast('cuda', args...)` instead.\n",
            "  with autocast():\n",
            "Epoch 12/20 [Train]: 100%|██████████| 275/275 [00:05<00:00, 48.90it/s, loss=0.6535, acc=0.8000]\n",
            "Epoch 12/20 [Val]: 100%|██████████| 40/40 [00:00<00:00, 57.70it/s, loss=0.4397, acc=0.8333]\n"
          ]
        },
        {
          "output_type": "stream",
          "name": "stdout",
          "text": [
            "Epoch [12/20] | Train Loss: 0.1068 | Train Acc: 0.9578 | Val Loss: 0.3218 | Val Acc: 0.8684 | Time: 6.32s | Total: 1.46m\n"
          ]
        },
        {
          "output_type": "stream",
          "name": "stderr",
          "text": [
            "\rEpoch 13/20 [Train]:   0%|          | 0/275 [00:00<?, ?it/s]<ipython-input-7-df03fd10262a>:437: FutureWarning: `torch.cuda.amp.autocast(args...)` is deprecated. Please use `torch.amp.autocast('cuda', args...)` instead.\n",
            "  with autocast():\n",
            "/usr/local/lib/python3.11/dist-packages/torch/amp/autocast_mode.py:266: UserWarning: User provided device_type of 'cuda', but CUDA is not available. Disabling\n",
            "  warnings.warn(\n",
            "Epoch 13/20 [Train]:   4%|▍         | 11/275 [00:00<00:08, 30.96it/s, loss=0.2805, acc=0.8750]<ipython-input-7-df03fd10262a>:437: FutureWarning: `torch.cuda.amp.autocast(args...)` is deprecated. Please use `torch.amp.autocast('cuda', args...)` instead.\n",
            "  with autocast():\n",
            "/usr/local/lib/python3.11/dist-packages/torch/amp/autocast_mode.py:266: UserWarning: User provided device_type of 'cuda', but CUDA is not available. Disabling\n",
            "  warnings.warn(\n",
            "Epoch 13/20 [Train]:  18%|█▊        | 50/275 [00:01<00:04, 50.31it/s, loss=0.0586, acc=1.0000]<ipython-input-7-df03fd10262a>:437: FutureWarning: `torch.cuda.amp.autocast(args...)` is deprecated. Please use `torch.amp.autocast('cuda', args...)` instead.\n",
            "  with autocast():\n",
            "/usr/local/lib/python3.11/dist-packages/torch/amp/autocast_mode.py:266: UserWarning: User provided device_type of 'cuda', but CUDA is not available. Disabling\n",
            "  warnings.warn(\n",
            "Epoch 13/20 [Train]:  44%|████▍     | 122/275 [00:03<00:03, 39.56it/s, loss=0.0643, acc=0.9688]<ipython-input-7-df03fd10262a>:437: FutureWarning: `torch.cuda.amp.autocast(args...)` is deprecated. Please use `torch.amp.autocast('cuda', args...)` instead.\n",
            "  with autocast():\n",
            "/usr/local/lib/python3.11/dist-packages/torch/amp/autocast_mode.py:266: UserWarning: User provided device_type of 'cuda', but CUDA is not available. Disabling\n",
            "  warnings.warn(\n",
            "Epoch 13/20 [Train]:  49%|████▊     | 134/275 [00:03<00:03, 38.67it/s, loss=0.0695, acc=1.0000]<ipython-input-7-df03fd10262a>:437: FutureWarning: `torch.cuda.amp.autocast(args...)` is deprecated. Please use `torch.amp.autocast('cuda', args...)` instead.\n",
            "  with autocast():\n",
            "/usr/local/lib/python3.11/dist-packages/torch/amp/autocast_mode.py:266: UserWarning: User provided device_type of 'cuda', but CUDA is not available. Disabling\n",
            "  warnings.warn(\n",
            "Epoch 13/20 [Train]:  73%|███████▎  | 201/275 [00:05<00:01, 38.73it/s, loss=0.0424, acc=1.0000]<ipython-input-7-df03fd10262a>:437: FutureWarning: `torch.cuda.amp.autocast(args...)` is deprecated. Please use `torch.amp.autocast('cuda', args...)` instead.\n",
            "  with autocast():\n",
            "/usr/local/lib/python3.11/dist-packages/torch/amp/autocast_mode.py:266: UserWarning: User provided device_type of 'cuda', but CUDA is not available. Disabling\n",
            "  warnings.warn(\n",
            "Epoch 13/20 [Train]:  79%|███████▉  | 217/275 [00:05<00:01, 35.15it/s, loss=0.0460, acc=0.9688]<ipython-input-7-df03fd10262a>:437: FutureWarning: `torch.cuda.amp.autocast(args...)` is deprecated. Please use `torch.amp.autocast('cuda', args...)` instead.\n",
            "  with autocast():\n",
            "/usr/local/lib/python3.11/dist-packages/torch/amp/autocast_mode.py:266: UserWarning: User provided device_type of 'cuda', but CUDA is not available. Disabling\n",
            "  warnings.warn(\n",
            "Epoch 13/20 [Train]:  91%|█████████ | 250/275 [00:06<00:00, 43.11it/s, loss=0.0358, acc=1.0000]<ipython-input-7-df03fd10262a>:437: FutureWarning: `torch.cuda.amp.autocast(args...)` is deprecated. Please use `torch.amp.autocast('cuda', args...)` instead.\n",
            "  with autocast():\n",
            "/usr/local/lib/python3.11/dist-packages/torch/amp/autocast_mode.py:266: UserWarning: User provided device_type of 'cuda', but CUDA is not available. Disabling\n",
            "  warnings.warn(\n",
            "Epoch 13/20 [Train]: 100%|██████████| 275/275 [00:06<00:00, 40.46it/s, loss=0.8245, acc=0.8000]\n",
            "Epoch 13/20 [Val]: 100%|██████████| 40/40 [00:00<00:00, 57.80it/s, loss=0.3048, acc=0.8333]\n"
          ]
        },
        {
          "output_type": "stream",
          "name": "stdout",
          "text": [
            "Epoch [13/20] | Train Loss: 0.0992 | Train Acc: 0.9594 | Val Loss: 0.3002 | Val Acc: 0.9067 | Time: 7.51s | Total: 1.59m\n"
          ]
        },
        {
          "output_type": "stream",
          "name": "stderr",
          "text": [
            "\rEpoch 14/20 [Train]:   0%|          | 0/275 [00:00<?, ?it/s]<ipython-input-7-df03fd10262a>:437: FutureWarning: `torch.cuda.amp.autocast(args...)` is deprecated. Please use `torch.amp.autocast('cuda', args...)` instead.\n",
            "  with autocast():\n",
            "/usr/local/lib/python3.11/dist-packages/torch/amp/autocast_mode.py:266: UserWarning: User provided device_type of 'cuda', but CUDA is not available. Disabling\n",
            "  warnings.warn(\n",
            "Epoch 14/20 [Train]:   0%|          | 1/275 [00:00<01:04,  4.24it/s, loss=0.0949, acc=0.9688]<ipython-input-7-df03fd10262a>:437: FutureWarning: `torch.cuda.amp.autocast(args...)` is deprecated. Please use `torch.amp.autocast('cuda', args...)` instead.\n",
            "  with autocast():\n",
            "/usr/local/lib/python3.11/dist-packages/torch/amp/autocast_mode.py:266: UserWarning: User provided device_type of 'cuda', but CUDA is not available. Disabling\n",
            "  warnings.warn(\n",
            "Epoch 14/20 [Train]:  22%|██▏       | 60/275 [00:01<00:04, 49.72it/s, loss=0.0517, acc=1.0000]<ipython-input-7-df03fd10262a>:437: FutureWarning: `torch.cuda.amp.autocast(args...)` is deprecated. Please use `torch.amp.autocast('cuda', args...)` instead.\n",
            "  with autocast():\n",
            "/usr/local/lib/python3.11/dist-packages/torch/amp/autocast_mode.py:266: UserWarning: User provided device_type of 'cuda', but CUDA is not available. Disabling\n",
            "  warnings.warn(\n",
            "Epoch 14/20 [Train]:  39%|███▉      | 108/275 [00:02<00:03, 52.90it/s, loss=0.0518, acc=0.9688]<ipython-input-7-df03fd10262a>:437: FutureWarning: `torch.cuda.amp.autocast(args...)` is deprecated. Please use `torch.amp.autocast('cuda', args...)` instead.\n",
            "  with autocast():\n",
            "/usr/local/lib/python3.11/dist-packages/torch/amp/autocast_mode.py:266: UserWarning: User provided device_type of 'cuda', but CUDA is not available. Disabling\n",
            "  warnings.warn(\n",
            "Epoch 14/20 [Train]:  55%|█████▍    | 150/275 [00:03<00:02, 52.39it/s, loss=0.2593, acc=0.9375]<ipython-input-7-df03fd10262a>:437: FutureWarning: `torch.cuda.amp.autocast(args...)` is deprecated. Please use `torch.amp.autocast('cuda', args...)` instead.\n",
            "  with autocast():\n",
            "/usr/local/lib/python3.11/dist-packages/torch/amp/autocast_mode.py:266: UserWarning: User provided device_type of 'cuda', but CUDA is not available. Disabling\n",
            "  warnings.warn(\n",
            "Epoch 14/20 [Train]:  74%|███████▍  | 204/275 [00:04<00:01, 53.48it/s, loss=0.0261, acc=1.0000]<ipython-input-7-df03fd10262a>:437: FutureWarning: `torch.cuda.amp.autocast(args...)` is deprecated. Please use `torch.amp.autocast('cuda', args...)` instead.\n",
            "  with autocast():\n",
            "/usr/local/lib/python3.11/dist-packages/torch/amp/autocast_mode.py:266: UserWarning: User provided device_type of 'cuda', but CUDA is not available. Disabling\n",
            "  warnings.warn(\n",
            "Epoch 14/20 [Train]:  96%|█████████▌| 264/275 [00:05<00:00, 53.75it/s, loss=0.0450, acc=1.0000]<ipython-input-7-df03fd10262a>:437: FutureWarning: `torch.cuda.amp.autocast(args...)` is deprecated. Please use `torch.amp.autocast('cuda', args...)` instead.\n",
            "  with autocast():\n",
            "/usr/local/lib/python3.11/dist-packages/torch/amp/autocast_mode.py:266: UserWarning: User provided device_type of 'cuda', but CUDA is not available. Disabling\n",
            "  warnings.warn(\n",
            "Epoch 14/20 [Train]: 100%|██████████| 275/275 [00:05<00:00, 49.44it/s, loss=0.2230, acc=0.9000]\n",
            "Epoch 14/20 [Val]: 100%|██████████| 40/40 [00:00<00:00, 59.40it/s, loss=0.2786, acc=0.8333]\n"
          ]
        },
        {
          "output_type": "stream",
          "name": "stdout",
          "text": [
            "Epoch [14/20] | Train Loss: 0.1002 | Train Acc: 0.9585 | Val Loss: 0.2774 | Val Acc: 0.9075 | Time: 6.25s | Total: 1.70m\n"
          ]
        },
        {
          "output_type": "stream",
          "name": "stderr",
          "text": [
            "\rEpoch 15/20 [Train]:   0%|          | 0/275 [00:00<?, ?it/s]<ipython-input-7-df03fd10262a>:437: FutureWarning: `torch.cuda.amp.autocast(args...)` is deprecated. Please use `torch.amp.autocast('cuda', args...)` instead.\n",
            "  with autocast():\n",
            "/usr/local/lib/python3.11/dist-packages/torch/amp/autocast_mode.py:266: UserWarning: User provided device_type of 'cuda', but CUDA is not available. Disabling\n",
            "  warnings.warn(\n",
            "Epoch 15/20 [Train]:  22%|██▏       | 60/275 [00:01<00:04, 50.66it/s, loss=0.0922, acc=0.9688]<ipython-input-7-df03fd10262a>:437: FutureWarning: `torch.cuda.amp.autocast(args...)` is deprecated. Please use `torch.amp.autocast('cuda', args...)` instead.\n",
            "  with autocast():\n",
            "/usr/local/lib/python3.11/dist-packages/torch/amp/autocast_mode.py:266: UserWarning: User provided device_type of 'cuda', but CUDA is not available. Disabling\n",
            "  warnings.warn(\n",
            "Epoch 15/20 [Train]:  26%|██▌       | 72/275 [00:01<00:04, 48.84it/s, loss=0.1001, acc=0.9688]<ipython-input-7-df03fd10262a>:437: FutureWarning: `torch.cuda.amp.autocast(args...)` is deprecated. Please use `torch.amp.autocast('cuda', args...)` instead.\n",
            "  with autocast():\n",
            "/usr/local/lib/python3.11/dist-packages/torch/amp/autocast_mode.py:266: UserWarning: User provided device_type of 'cuda', but CUDA is not available. Disabling\n",
            "  warnings.warn(\n",
            "Epoch 15/20 [Train]:  41%|████      | 112/275 [00:02<00:04, 39.47it/s, loss=0.1583, acc=0.9375]<ipython-input-7-df03fd10262a>:437: FutureWarning: `torch.cuda.amp.autocast(args...)` is deprecated. Please use `torch.amp.autocast('cuda', args...)` instead.\n",
            "  with autocast():\n",
            "/usr/local/lib/python3.11/dist-packages/torch/amp/autocast_mode.py:266: UserWarning: User provided device_type of 'cuda', but CUDA is not available. Disabling\n",
            "  warnings.warn(\n",
            "Epoch 15/20 [Train]:  52%|█████▏    | 143/275 [00:03<00:03, 38.26it/s, loss=0.1757, acc=0.9062]<ipython-input-7-df03fd10262a>:437: FutureWarning: `torch.cuda.amp.autocast(args...)` is deprecated. Please use `torch.amp.autocast('cuda', args...)` instead.\n",
            "  with autocast():\n",
            "/usr/local/lib/python3.11/dist-packages/torch/amp/autocast_mode.py:266: UserWarning: User provided device_type of 'cuda', but CUDA is not available. Disabling\n",
            "  warnings.warn(\n",
            "Epoch 15/20 [Train]:  66%|██████▌   | 182/275 [00:04<00:02, 39.54it/s, loss=0.2852, acc=0.9375]<ipython-input-7-df03fd10262a>:437: FutureWarning: `torch.cuda.amp.autocast(args...)` is deprecated. Please use `torch.amp.autocast('cuda', args...)` instead.\n",
            "  with autocast():\n",
            "/usr/local/lib/python3.11/dist-packages/torch/amp/autocast_mode.py:266: UserWarning: User provided device_type of 'cuda', but CUDA is not available. Disabling\n",
            "  warnings.warn(\n",
            "Epoch 15/20 [Train]:  84%|████████▍ | 231/275 [00:05<00:01, 38.92it/s, loss=0.0901, acc=0.9375]<ipython-input-7-df03fd10262a>:437: FutureWarning: `torch.cuda.amp.autocast(args...)` is deprecated. Please use `torch.amp.autocast('cuda', args...)` instead.\n",
            "  with autocast():\n",
            "/usr/local/lib/python3.11/dist-packages/torch/amp/autocast_mode.py:266: UserWarning: User provided device_type of 'cuda', but CUDA is not available. Disabling\n",
            "  warnings.warn(\n",
            "Epoch 15/20 [Train]:  97%|█████████▋| 266/275 [00:06<00:00, 45.95it/s, loss=0.0995, acc=0.9375]<ipython-input-7-df03fd10262a>:437: FutureWarning: `torch.cuda.amp.autocast(args...)` is deprecated. Please use `torch.amp.autocast('cuda', args...)` instead.\n",
            "  with autocast():\n",
            "/usr/local/lib/python3.11/dist-packages/torch/amp/autocast_mode.py:266: UserWarning: User provided device_type of 'cuda', but CUDA is not available. Disabling\n",
            "  warnings.warn(\n",
            "Epoch 15/20 [Train]: 100%|██████████| 275/275 [00:06<00:00, 40.81it/s, loss=0.3514, acc=0.8000]\n",
            "Epoch 15/20 [Val]: 100%|██████████| 40/40 [00:00<00:00, 58.60it/s, loss=0.2253, acc=0.8333]\n"
          ]
        },
        {
          "output_type": "stream",
          "name": "stdout",
          "text": [
            "Epoch [15/20] | Train Loss: 0.1005 | Train Acc: 0.9598 | Val Loss: 0.2787 | Val Acc: 0.9019 | Time: 7.43s | Total: 1.83m\n"
          ]
        },
        {
          "output_type": "stream",
          "name": "stderr",
          "text": [
            "Epoch 16/20 [Train]:   8%|▊         | 23/275 [00:00<00:05, 42.62it/s, loss=0.4274, acc=0.8438]<ipython-input-7-df03fd10262a>:437: FutureWarning: `torch.cuda.amp.autocast(args...)` is deprecated. Please use `torch.amp.autocast('cuda', args...)` instead.\n",
            "  with autocast():\n",
            "/usr/local/lib/python3.11/dist-packages/torch/amp/autocast_mode.py:266: UserWarning: User provided device_type of 'cuda', but CUDA is not available. Disabling\n",
            "  warnings.warn(\n",
            "Epoch 16/20 [Train]:  26%|██▌       | 71/275 [00:01<00:04, 49.83it/s, loss=0.0644, acc=0.9688]<ipython-input-7-df03fd10262a>:437: FutureWarning: `torch.cuda.amp.autocast(args...)` is deprecated. Please use `torch.amp.autocast('cuda', args...)` instead.\n",
            "  with autocast():\n",
            "/usr/local/lib/python3.11/dist-packages/torch/amp/autocast_mode.py:266: UserWarning: User provided device_type of 'cuda', but CUDA is not available. Disabling\n",
            "  warnings.warn(\n",
            "Epoch 16/20 [Train]:  32%|███▏      | 89/275 [00:01<00:03, 50.92it/s, loss=0.1805, acc=0.9688]<ipython-input-7-df03fd10262a>:437: FutureWarning: `torch.cuda.amp.autocast(args...)` is deprecated. Please use `torch.amp.autocast('cuda', args...)` instead.\n",
            "  with autocast():\n",
            "/usr/local/lib/python3.11/dist-packages/torch/amp/autocast_mode.py:266: UserWarning: User provided device_type of 'cuda', but CUDA is not available. Disabling\n",
            "  warnings.warn(\n",
            "Epoch 16/20 [Train]:  50%|████▉     | 137/275 [00:02<00:02, 51.86it/s, loss=0.2807, acc=0.9062]<ipython-input-7-df03fd10262a>:437: FutureWarning: `torch.cuda.amp.autocast(args...)` is deprecated. Please use `torch.amp.autocast('cuda', args...)` instead.\n",
            "  with autocast():\n",
            "/usr/local/lib/python3.11/dist-packages/torch/amp/autocast_mode.py:266: UserWarning: User provided device_type of 'cuda', but CUDA is not available. Disabling\n",
            "  warnings.warn(\n",
            "Epoch 16/20 [Train]:  67%|██████▋   | 185/275 [00:03<00:01, 51.50it/s, loss=0.0288, acc=1.0000]<ipython-input-7-df03fd10262a>:437: FutureWarning: `torch.cuda.amp.autocast(args...)` is deprecated. Please use `torch.amp.autocast('cuda', args...)` instead.\n",
            "  with autocast():\n",
            "/usr/local/lib/python3.11/dist-packages/torch/amp/autocast_mode.py:266: UserWarning: User provided device_type of 'cuda', but CUDA is not available. Disabling\n",
            "  warnings.warn(\n",
            "Epoch 16/20 [Train]:  91%|█████████▏| 251/275 [00:05<00:00, 52.05it/s, loss=0.1207, acc=0.9688]<ipython-input-7-df03fd10262a>:437: FutureWarning: `torch.cuda.amp.autocast(args...)` is deprecated. Please use `torch.amp.autocast('cuda', args...)` instead.\n",
            "  with autocast():\n",
            "/usr/local/lib/python3.11/dist-packages/torch/amp/autocast_mode.py:266: UserWarning: User provided device_type of 'cuda', but CUDA is not available. Disabling\n",
            "  warnings.warn(\n",
            "Epoch 16/20 [Train]: 100%|██████████| 275/275 [00:05<00:00, 48.79it/s, loss=0.0525, acc=1.0000]\n",
            "Epoch 16/20 [Val]: 100%|██████████| 40/40 [00:00<00:00, 57.87it/s, loss=0.1801, acc=0.8333]\n"
          ]
        },
        {
          "output_type": "stream",
          "name": "stdout",
          "text": [
            "Epoch [16/20] | Train Loss: 0.0904 | Train Acc: 0.9640 | Val Loss: 0.2852 | Val Acc: 0.9003 | Time: 6.34s | Total: 1.94m\n"
          ]
        },
        {
          "output_type": "stream",
          "name": "stderr",
          "text": [
            "\rEpoch 17/20 [Train]:   0%|          | 0/275 [00:00<?, ?it/s]<ipython-input-7-df03fd10262a>:437: FutureWarning: `torch.cuda.amp.autocast(args...)` is deprecated. Please use `torch.amp.autocast('cuda', args...)` instead.\n",
            "  with autocast():\n",
            "/usr/local/lib/python3.11/dist-packages/torch/amp/autocast_mode.py:266: UserWarning: User provided device_type of 'cuda', but CUDA is not available. Disabling\n",
            "  warnings.warn(\n",
            "Epoch 17/20 [Train]:  12%|█▏        | 34/275 [00:00<00:05, 45.65it/s, loss=0.0782, acc=0.9688]<ipython-input-7-df03fd10262a>:437: FutureWarning: `torch.cuda.amp.autocast(args...)` is deprecated. Please use `torch.amp.autocast('cuda', args...)` instead.\n",
            "  with autocast():\n",
            "/usr/local/lib/python3.11/dist-packages/torch/amp/autocast_mode.py:266: UserWarning: User provided device_type of 'cuda', but CUDA is not available. Disabling\n",
            "  warnings.warn(\n",
            "Epoch 17/20 [Train]:  18%|█▊        | 50/275 [00:01<00:04, 45.69it/s, loss=0.0848, acc=0.9688]<ipython-input-7-df03fd10262a>:437: FutureWarning: `torch.cuda.amp.autocast(args...)` is deprecated. Please use `torch.amp.autocast('cuda', args...)` instead.\n",
            "  with autocast():\n",
            "/usr/local/lib/python3.11/dist-packages/torch/amp/autocast_mode.py:266: UserWarning: User provided device_type of 'cuda', but CUDA is not available. Disabling\n",
            "  warnings.warn(\n",
            "Epoch 17/20 [Train]:  31%|███       | 85/275 [00:02<00:05, 37.49it/s, loss=0.1009, acc=0.9062]<ipython-input-7-df03fd10262a>:437: FutureWarning: `torch.cuda.amp.autocast(args...)` is deprecated. Please use `torch.amp.autocast('cuda', args...)` instead.\n",
            "  with autocast():\n",
            "/usr/local/lib/python3.11/dist-packages/torch/amp/autocast_mode.py:266: UserWarning: User provided device_type of 'cuda', but CUDA is not available. Disabling\n",
            "  warnings.warn(\n",
            "Epoch 17/20 [Train]:  54%|█████▍    | 149/275 [00:03<00:03, 37.02it/s, loss=0.0579, acc=1.0000]<ipython-input-7-df03fd10262a>:437: FutureWarning: `torch.cuda.amp.autocast(args...)` is deprecated. Please use `torch.amp.autocast('cuda', args...)` instead.\n",
            "  with autocast():\n",
            "/usr/local/lib/python3.11/dist-packages/torch/amp/autocast_mode.py:266: UserWarning: User provided device_type of 'cuda', but CUDA is not available. Disabling\n",
            "  warnings.warn(\n",
            "Epoch 17/20 [Train]:  59%|█████▊    | 161/275 [00:04<00:03, 37.29it/s, loss=0.2367, acc=0.9375]<ipython-input-7-df03fd10262a>:437: FutureWarning: `torch.cuda.amp.autocast(args...)` is deprecated. Please use `torch.amp.autocast('cuda', args...)` instead.\n",
            "  with autocast():\n",
            "/usr/local/lib/python3.11/dist-packages/torch/amp/autocast_mode.py:266: UserWarning: User provided device_type of 'cuda', but CUDA is not available. Disabling\n",
            "  warnings.warn(\n",
            "Epoch 17/20 [Train]:  71%|███████   | 195/275 [00:05<00:02, 39.35it/s, loss=0.0480, acc=1.0000]<ipython-input-7-df03fd10262a>:437: FutureWarning: `torch.cuda.amp.autocast(args...)` is deprecated. Please use `torch.amp.autocast('cuda', args...)` instead.\n",
            "  with autocast():\n",
            "/usr/local/lib/python3.11/dist-packages/torch/amp/autocast_mode.py:266: UserWarning: User provided device_type of 'cuda', but CUDA is not available. Disabling\n",
            "  warnings.warn(\n",
            "Epoch 17/20 [Train]:  89%|████████▉ | 246/275 [00:06<00:00, 47.67it/s, loss=0.0625, acc=0.9688]<ipython-input-7-df03fd10262a>:437: FutureWarning: `torch.cuda.amp.autocast(args...)` is deprecated. Please use `torch.amp.autocast('cuda', args...)` instead.\n",
            "  with autocast():\n",
            "/usr/local/lib/python3.11/dist-packages/torch/amp/autocast_mode.py:266: UserWarning: User provided device_type of 'cuda', but CUDA is not available. Disabling\n",
            "  warnings.warn(\n",
            "Epoch 17/20 [Train]: 100%|██████████| 275/275 [00:07<00:00, 39.17it/s, loss=0.6934, acc=0.7000]\n",
            "Epoch 17/20 [Val]: 100%|██████████| 40/40 [00:00<00:00, 56.54it/s, loss=0.3902, acc=0.8333]\n"
          ]
        },
        {
          "output_type": "stream",
          "name": "stdout",
          "text": [
            "Epoch [17/20] | Train Loss: 0.1121 | Train Acc: 0.9558 | Val Loss: 0.2869 | Val Acc: 0.8740 | Time: 7.74s | Total: 2.08m\n"
          ]
        },
        {
          "output_type": "stream",
          "name": "stderr",
          "text": [
            "\rEpoch 18/20 [Train]:   0%|          | 0/275 [00:00<?, ?it/s]<ipython-input-7-df03fd10262a>:437: FutureWarning: `torch.cuda.amp.autocast(args...)` is deprecated. Please use `torch.amp.autocast('cuda', args...)` instead.\n",
            "  with autocast():\n",
            "/usr/local/lib/python3.11/dist-packages/torch/amp/autocast_mode.py:266: UserWarning: User provided device_type of 'cuda', but CUDA is not available. Disabling\n",
            "  warnings.warn(\n",
            "Epoch 18/20 [Train]:  28%|██▊       | 76/275 [00:01<00:04, 48.31it/s, loss=0.0211, acc=1.0000]<ipython-input-7-df03fd10262a>:437: FutureWarning: `torch.cuda.amp.autocast(args...)` is deprecated. Please use `torch.amp.autocast('cuda', args...)` instead.\n",
            "  with autocast():\n",
            "/usr/local/lib/python3.11/dist-packages/torch/amp/autocast_mode.py:266: UserWarning: User provided device_type of 'cuda', but CUDA is not available. Disabling\n",
            "  warnings.warn(\n",
            "Epoch 18/20 [Train]:  34%|███▍      | 93/275 [00:02<00:03, 50.43it/s, loss=0.2735, acc=0.9688]<ipython-input-7-df03fd10262a>:437: FutureWarning: `torch.cuda.amp.autocast(args...)` is deprecated. Please use `torch.amp.autocast('cuda', args...)` instead.\n",
            "  with autocast():\n",
            "/usr/local/lib/python3.11/dist-packages/torch/amp/autocast_mode.py:266: UserWarning: User provided device_type of 'cuda', but CUDA is not available. Disabling\n",
            "  warnings.warn(\n",
            "Epoch 18/20 [Train]:  49%|████▊     | 134/275 [00:02<00:02, 48.94it/s, loss=0.1774, acc=0.9375]<ipython-input-7-df03fd10262a>:437: FutureWarning: `torch.cuda.amp.autocast(args...)` is deprecated. Please use `torch.amp.autocast('cuda', args...)` instead.\n",
            "  with autocast():\n",
            "/usr/local/lib/python3.11/dist-packages/torch/amp/autocast_mode.py:266: UserWarning: User provided device_type of 'cuda', but CUDA is not available. Disabling\n",
            "  warnings.warn(\n",
            "Epoch 18/20 [Train]:  66%|██████▌   | 182/275 [00:03<00:01, 50.80it/s, loss=0.0395, acc=0.9688]<ipython-input-7-df03fd10262a>:437: FutureWarning: `torch.cuda.amp.autocast(args...)` is deprecated. Please use `torch.amp.autocast('cuda', args...)` instead.\n",
            "  with autocast():\n",
            "/usr/local/lib/python3.11/dist-packages/torch/amp/autocast_mode.py:266: UserWarning: User provided device_type of 'cuda', but CUDA is not available. Disabling\n",
            "  warnings.warn(\n",
            "Epoch 18/20 [Train]:  86%|████████▌ | 236/275 [00:04<00:00, 49.30it/s, loss=0.1245, acc=0.9375]<ipython-input-7-df03fd10262a>:437: FutureWarning: `torch.cuda.amp.autocast(args...)` is deprecated. Please use `torch.amp.autocast('cuda', args...)` instead.\n",
            "  with autocast():\n",
            "/usr/local/lib/python3.11/dist-packages/torch/amp/autocast_mode.py:266: UserWarning: User provided device_type of 'cuda', but CUDA is not available. Disabling\n",
            "  warnings.warn(\n",
            "Epoch 18/20 [Train]: 100%|██████████| 275/275 [00:05<00:00, 48.55it/s, loss=0.1285, acc=1.0000]\n",
            "Epoch 18/20 [Val]: 100%|██████████| 40/40 [00:00<00:00, 56.81it/s, loss=0.2041, acc=0.8333]\n"
          ]
        },
        {
          "output_type": "stream",
          "name": "stdout",
          "text": [
            "Epoch [18/20] | Train Loss: 0.0922 | Train Acc: 0.9613 | Val Loss: 0.2960 | Val Acc: 0.9083 | Time: 6.38s | Total: 2.19m\n"
          ]
        },
        {
          "output_type": "stream",
          "name": "stderr",
          "text": [
            "\rEpoch 19/20 [Train]:   0%|          | 0/275 [00:00<?, ?it/s]<ipython-input-7-df03fd10262a>:437: FutureWarning: `torch.cuda.amp.autocast(args...)` is deprecated. Please use `torch.amp.autocast('cuda', args...)` instead.\n",
            "  with autocast():\n",
            "/usr/local/lib/python3.11/dist-packages/torch/amp/autocast_mode.py:266: UserWarning: User provided device_type of 'cuda', but CUDA is not available. Disabling\n",
            "  warnings.warn(\n",
            "Epoch 19/20 [Train]:   2%|▏         | 6/275 [00:00<00:12, 21.26it/s, loss=0.0947, acc=0.9688]<ipython-input-7-df03fd10262a>:437: FutureWarning: `torch.cuda.amp.autocast(args...)` is deprecated. Please use `torch.amp.autocast('cuda', args...)` instead.\n",
            "  with autocast():\n",
            "/usr/local/lib/python3.11/dist-packages/torch/amp/autocast_mode.py:266: UserWarning: User provided device_type of 'cuda', but CUDA is not available. Disabling\n",
            "  warnings.warn(\n",
            "Epoch 19/20 [Train]:  18%|█▊        | 50/275 [00:01<00:05, 41.43it/s, loss=0.1138, acc=0.9375]<ipython-input-7-df03fd10262a>:437: FutureWarning: `torch.cuda.amp.autocast(args...)` is deprecated. Please use `torch.amp.autocast('cuda', args...)` instead.\n",
            "  with autocast():\n",
            "/usr/local/lib/python3.11/dist-packages/torch/amp/autocast_mode.py:266: UserWarning: User provided device_type of 'cuda', but CUDA is not available. Disabling\n",
            "  warnings.warn(\n",
            "Epoch 19/20 [Train]:  42%|████▏     | 115/275 [00:03<00:04, 36.70it/s, loss=0.0833, acc=0.9688]<ipython-input-7-df03fd10262a>:437: FutureWarning: `torch.cuda.amp.autocast(args...)` is deprecated. Please use `torch.amp.autocast('cuda', args...)` instead.\n",
            "  with autocast():\n",
            "/usr/local/lib/python3.11/dist-packages/torch/amp/autocast_mode.py:266: UserWarning: User provided device_type of 'cuda', but CUDA is not available. Disabling\n",
            "  warnings.warn(\n",
            "Epoch 19/20 [Train]:  47%|████▋     | 128/275 [00:03<00:04, 35.01it/s, loss=0.1526, acc=0.9375]<ipython-input-7-df03fd10262a>:437: FutureWarning: `torch.cuda.amp.autocast(args...)` is deprecated. Please use `torch.amp.autocast('cuda', args...)` instead.\n",
            "  with autocast():\n",
            "/usr/local/lib/python3.11/dist-packages/torch/amp/autocast_mode.py:266: UserWarning: User provided device_type of 'cuda', but CUDA is not available. Disabling\n",
            "  warnings.warn(\n",
            "Epoch 19/20 [Train]:  58%|█████▊    | 160/275 [00:04<00:03, 35.77it/s, loss=0.0435, acc=1.0000]<ipython-input-7-df03fd10262a>:437: FutureWarning: `torch.cuda.amp.autocast(args...)` is deprecated. Please use `torch.amp.autocast('cuda', args...)` instead.\n",
            "  with autocast():\n",
            "/usr/local/lib/python3.11/dist-packages/torch/amp/autocast_mode.py:266: UserWarning: User provided device_type of 'cuda', but CUDA is not available. Disabling\n",
            "  warnings.warn(\n",
            "Epoch 19/20 [Train]:  69%|██████▊   | 189/275 [00:05<00:02, 36.26it/s, loss=0.0447, acc=0.9688]<ipython-input-7-df03fd10262a>:437: FutureWarning: `torch.cuda.amp.autocast(args...)` is deprecated. Please use `torch.amp.autocast('cuda', args...)` instead.\n",
            "  with autocast():\n",
            "/usr/local/lib/python3.11/dist-packages/torch/amp/autocast_mode.py:266: UserWarning: User provided device_type of 'cuda', but CUDA is not available. Disabling\n",
            "  warnings.warn(\n",
            "Epoch 19/20 [Train]:  85%|████████▌ | 234/275 [00:06<00:00, 48.27it/s, loss=0.0482, acc=1.0000]<ipython-input-7-df03fd10262a>:437: FutureWarning: `torch.cuda.amp.autocast(args...)` is deprecated. Please use `torch.amp.autocast('cuda', args...)` instead.\n",
            "  with autocast():\n",
            "/usr/local/lib/python3.11/dist-packages/torch/amp/autocast_mode.py:266: UserWarning: User provided device_type of 'cuda', but CUDA is not available. Disabling\n",
            "  warnings.warn(\n",
            "Epoch 19/20 [Train]: 100%|██████████| 275/275 [00:06<00:00, 39.32it/s, loss=0.3802, acc=0.9000]\n",
            "Epoch 19/20 [Val]: 100%|██████████| 40/40 [00:00<00:00, 56.28it/s, loss=0.2382, acc=0.8333]\n"
          ]
        },
        {
          "output_type": "stream",
          "name": "stdout",
          "text": [
            "Epoch [19/20] | Train Loss: 0.0825 | Train Acc: 0.9695 | Val Loss: 0.3024 | Val Acc: 0.9131 | Time: 7.72s | Total: 2.33m\n"
          ]
        },
        {
          "output_type": "stream",
          "name": "stderr",
          "text": [
            "\rEpoch 20/20 [Train]:   0%|          | 0/275 [00:00<?, ?it/s]<ipython-input-7-df03fd10262a>:437: FutureWarning: `torch.cuda.amp.autocast(args...)` is deprecated. Please use `torch.amp.autocast('cuda', args...)` instead.\n",
            "  with autocast():\n",
            "/usr/local/lib/python3.11/dist-packages/torch/amp/autocast_mode.py:266: UserWarning: User provided device_type of 'cuda', but CUDA is not available. Disabling\n",
            "  warnings.warn(\n",
            "Epoch 20/20 [Train]:   0%|          | 1/275 [00:00<01:02,  4.40it/s, loss=0.0939, acc=0.9688]<ipython-input-7-df03fd10262a>:437: FutureWarning: `torch.cuda.amp.autocast(args...)` is deprecated. Please use `torch.amp.autocast('cuda', args...)` instead.\n",
            "  with autocast():\n",
            "/usr/local/lib/python3.11/dist-packages/torch/amp/autocast_mode.py:266: UserWarning: User provided device_type of 'cuda', but CUDA is not available. Disabling\n",
            "  warnings.warn(\n",
            "Epoch 20/20 [Train]:  17%|█▋        | 47/275 [00:01<00:04, 48.61it/s, loss=0.0527, acc=1.0000]<ipython-input-7-df03fd10262a>:437: FutureWarning: `torch.cuda.amp.autocast(args...)` is deprecated. Please use `torch.amp.autocast('cuda', args...)` instead.\n",
            "  with autocast():\n",
            "/usr/local/lib/python3.11/dist-packages/torch/amp/autocast_mode.py:266: UserWarning: User provided device_type of 'cuda', but CUDA is not available. Disabling\n",
            "  warnings.warn(\n",
            "Epoch 20/20 [Train]:  30%|███       | 83/275 [00:01<00:03, 50.07it/s, loss=0.0233, acc=1.0000]<ipython-input-7-df03fd10262a>:437: FutureWarning: `torch.cuda.amp.autocast(args...)` is deprecated. Please use `torch.amp.autocast('cuda', args...)` instead.\n",
            "  with autocast():\n",
            "/usr/local/lib/python3.11/dist-packages/torch/amp/autocast_mode.py:266: UserWarning: User provided device_type of 'cuda', but CUDA is not available. Disabling\n",
            "  warnings.warn(\n",
            "Epoch 20/20 [Train]:  56%|█████▋    | 155/275 [00:03<00:02, 52.30it/s, loss=0.3074, acc=0.9062]<ipython-input-7-df03fd10262a>:437: FutureWarning: `torch.cuda.amp.autocast(args...)` is deprecated. Please use `torch.amp.autocast('cuda', args...)` instead.\n",
            "  with autocast():\n",
            "/usr/local/lib/python3.11/dist-packages/torch/amp/autocast_mode.py:266: UserWarning: User provided device_type of 'cuda', but CUDA is not available. Disabling\n",
            "  warnings.warn(\n",
            "Epoch 20/20 [Train]:  74%|███████▍  | 203/275 [00:04<00:01, 52.68it/s, loss=0.1135, acc=0.9375]<ipython-input-7-df03fd10262a>:437: FutureWarning: `torch.cuda.amp.autocast(args...)` is deprecated. Please use `torch.amp.autocast('cuda', args...)` instead.\n",
            "  with autocast():\n",
            "/usr/local/lib/python3.11/dist-packages/torch/amp/autocast_mode.py:266: UserWarning: User provided device_type of 'cuda', but CUDA is not available. Disabling\n",
            "  warnings.warn(\n",
            "Epoch 20/20 [Train]: 100%|██████████| 275/275 [00:05<00:00, 48.82it/s, loss=0.0385, acc=1.0000]\n",
            "Epoch 20/20 [Val]: 100%|██████████| 40/40 [00:00<00:00, 54.65it/s, loss=0.2352, acc=0.8333]\n"
          ]
        },
        {
          "output_type": "stream",
          "name": "stdout",
          "text": [
            "Epoch [20/20] | Train Loss: 0.0762 | Train Acc: 0.9700 | Val Loss: 0.2737 | Val Acc: 0.9139 | Time: 6.38s | Total: 2.44m\n"
          ]
        },
        {
          "output_type": "stream",
          "name": "stderr",
          "text": [
            "Evaluating: 100%|██████████| 79/79 [00:00<00:00, 84.59it/s] \n"
          ]
        },
        {
          "output_type": "stream",
          "name": "stdout",
          "text": [
            "Test Accuracy: 0.8987\n",
            "Precision: 0.8794\n",
            "Recall: 0.8348\n",
            "F1 Score: 0.8565\n",
            "ROC AUC: 0.9504\n",
            "Confusion Matrix:\n",
            "[[1496  104]\n",
            " [ 150  758]]\n"
          ]
        },
        {
          "output_type": "display_data",
          "data": {
            "text/plain": [
              "<Figure size 1500x1000 with 5 Axes>"
            ],
            "image/png": "[encoded data removed]"
          },
          "metadata": {}
        },
        {
          "output_type": "stream",
          "name": "stdout",
          "text": [
            "Model saved to /content/drive/MyDrive/eeg_gpu_optimized_model.pth\n",
            "Total execution time: 11 minutes 47.17 seconds\n",
            "\n",
            "==================================================\n",
            "TRAINING SUMMARY\n",
            "==================================================\n",
            "Final Test Accuracy: 0.8987\n",
            "Final Test F1 Score: 0.8565\n",
            "Final Test ROC AUC: 0.9504\n",
            "Training completed in 11 minutes 47.17 seconds\n",
            "Model saved to: /content/drive/MyDrive/eeg_gpu_optimized_model.pth\n"
          ]
        }
      ]
    },
    {
      "cell_type": "code",
      "source": [
        "!pip install snntorch"
      ],
      "metadata": {
        "colab": {
          "base_uri": "https://localhost:8080/"
        },
        "id": "Yfa0xMkffeeN",
        "outputId": "2c10b882-2dc4-4f47-dbb2-c7a6ecb43a01"
      },
      "execution_count": null,
      "outputs": [
        {
          "output_type": "stream",
          "name": "stdout",
          "text": [
            "Collecting snntorch\n",
            "  Downloading snntorch-0.9.4-py2.py3-none-any.whl.metadata (15 kB)\n",
            "Downloading snntorch-0.9.4-py2.py3-none-any.whl (125 kB)\n",
            "\u001b[?25l   \u001b[90m━━━━━━━━━━━━━━━━━━━━━━━━━━━━━━━━━━━━━━━━\u001b[0m \u001b[32m0.0/125.6 kB\u001b[0m \u001b[31m?\u001b[0m eta \u001b[36m-:--:--\u001b[0m\r\u001b[2K   \u001b[90m━━━━━━━━━━━━━━━━━━━━━━━━━━━━━━━━━━━━━━━━\u001b[0m \u001b[32m125.6/125.6 kB\u001b[0m \u001b[31m7.2 MB/s\u001b[0m eta \u001b[36m0:00:00\u001b[0m\n",
            "\u001b[?25hInstalling collected packages: snntorch\n",
            "Successfully installed snntorch-0.9.4\n"
          ]
        }
      ]
    },
    {
      "cell_type": "code",
      "metadata": {
        "id": "b09e4021",
        "colab": {
          "base_uri": "https://localhost:8080/"
        },
        "outputId": "ace05d27-2a73-4f17-d64d-ad1d0536b05f"
      },
      "source": [
        "\n",
        "\n",
        "import os\n",
        "import time\n",
        "import numpy as np\n",
        "import matplotlib.pyplot as plt\n",
        "from sklearn.model_selection import train_test_split\n",
        "from sklearn.metrics import accuracy_score, precision_score, recall_score, f1_score, confusion_matrix, roc_curve, auc\n",
        "import torch\n",
        "import torch.nn as nn\n",
        "import torch.optim as optim\n",
        "from torch.utils.data import DataLoader, Dataset, WeightedRandomSampler\n",
        "from spikingjelly.clock_driven import neuron, functional, surrogate\n",
        "from tqdm import tqdm\n",
        "import gc\n",
        "from torch.cuda.amp import autocast, GradScaler\n",
        "\n",
        "# Set random seeds for reproducibility\n",
        "np.random.seed(42)\n",
        "torch.manual_seed(42)\n",
        "torch.cuda.manual_seed_all(42)\n",
        "\n",
        "# GPU optimization\n",
        "if torch.cuda.is_available():\n",
        "    torch.backends.cudnn.benchmark = True\n",
        "    print(f\"Using GPU: {torch.cuda.get_device_name(0)}\")\n",
        "else:\n",
        "    print(\"No GPU available, using CPU\")\n",
        "device = torch.device('cuda' if torch.cuda.is_available() else 'cpu')\n",
        "\n",
        "# Data directory\n",
        "data_dir = '/content/drive/MyDrive/snn'\n",
        "if not os.path.exists(data_dir):\n",
        "    print(f\"Error: Data directory {data_dir} not found!\")\n",
        "    raise SystemExit\n",
        "print(f\"Found {len([f for f in os.listdir(data_dir) if f.endswith('.npz')])} .npz files\")\n",
        "\n",
        "class OptimizedEEGDataset(Dataset):\n",
        "    def __init__(self, data_dir, subsample_factor=1, max_samples_per_class=1000000, max_files=None):\n",
        "        self.data_dir = data_dir\n",
        "        self.subsample_factor = subsample_factor\n",
        "\n",
        "        # Load all .npz files\n",
        "        all_files = [f for f in os.listdir(data_dir) if f.endswith('.npz')]\n",
        "        self.file_list = all_files if max_files is None else all_files[:max_files]\n",
        "        print(f\"Using {len(self.file_list)} files\")\n",
        "\n",
        "        self.X_list = []\n",
        "        self.y_list = []\n",
        "        self.sample_weights = []\n",
        "        self.class_counts = {0: 0, 1: 0}\n",
        "\n",
        "        class0_samples = 0\n",
        "        class1_samples = 0\n",
        "\n",
        "        print(\"Loading data...\")\n",
        "        for file_name in tqdm(self.file_list):\n",
        "            if class0_samples >= max_samples_per_class and class1_samples >= max_samples_per_class:\n",
        "                break\n",
        "\n",
        "            try:\n",
        "                file_path = os.path.join(data_dir, file_name)\n",
        "                with np.load(file_path, mmap_mode='r') as data:\n",
        "                    X = data['X']\n",
        "                    y = data['y'].astype(int)\n",
        "\n",
        "                    # Select samples\n",
        "                    class0_indices = np.where(y == 0)[0]\n",
        "                    class1_indices = np.where(y == 1)[0]\n",
        "\n",
        "                    class0_to_include = min(len(class0_indices), max(0, max_samples_per_class - class0_samples))\n",
        "                    class1_to_include = min(len(class1_indices), max(0, max_samples_per_class - class1_samples))\n",
        "\n",
        "                    selected_class0 = np.random.choice(class0_indices, class0_to_include, replace=False) if class0_to_include > 0 else np.array([], dtype=int)\n",
        "                    selected_class1 = np.random.choice(class1_indices, class1_to_include, replace=False) if class1_to_include > 0 else np.array([], dtype=int)\n",
        "                    selected_indices = np.concatenate([selected_class0, selected_class1])\n",
        "\n",
        "                    if len(selected_indices) == 0:\n",
        "                        continue\n",
        "\n",
        "                    X_samples = X[selected_indices]\n",
        "                    y_samples = y[selected_indices]\n",
        "\n",
        "                    # Normalize per sample\n",
        "                    for i in range(len(X_samples)):\n",
        "                        X_min, X_max = X_samples[i].min(), X_samples[i].max()\n",
        "                        if X_max > X_min:\n",
        "                            X_samples[i] = (X_samples[i] - X_min) / (X_max - X_min)\n",
        "\n",
        "                    self.X_list.append(X_samples)\n",
        "                    self.y_list.append(y_samples)\n",
        "\n",
        "                    class0_samples += len(np.where(y_samples == 0)[0])\n",
        "                    class1_samples += len(np.where(y_samples == 1)[0])\n",
        "                    self.class_counts[0] += len(np.where(y_samples == 0)[0])\n",
        "                    self.class_counts[1] += len(np.where(y_samples == 1)[0])\n",
        "\n",
        "            except Exception as e:\n",
        "                print(f\"Error processing {file_name}: {e}\")\n",
        "\n",
        "        self.X = np.concatenate(self.X_list, axis=0)\n",
        "        self.y = np.concatenate(self.y_list, axis=0)\n",
        "\n",
        "        if len(self.X) == 0:\n",
        "            raise ValueError(\"No data loaded\")\n",
        "\n",
        "        # Class weights for balanced sampling\n",
        "        total = self.class_counts[0] + self.class_counts[1]\n",
        "        class_weights = {0: total / (2 * self.class_counts[0]), 1: total / (2 * self.class_counts[1])}\n",
        "        self.sample_weights = [class_weights[int(label)] for label in self.y]\n",
        "\n",
        "        print(f\"Dataset size: {len(self.X)}, Shape: {self.X.shape}\")\n",
        "        print(f\"Class distribution: 0: {self.class_counts[0]}, 1: {self.class_counts[1]}\")\n",
        "\n",
        "        self.X_tensor = torch.FloatTensor(self.X)\n",
        "        self.y_tensor = torch.FloatTensor(self.y).unsqueeze(1)\n",
        "\n",
        "    def __len__(self):\n",
        "        return len(self.X)\n",
        "\n",
        "    def __getitem__(self, idx):\n",
        "        return self.X_tensor[idx], self.y_tensor[idx]\n",
        "\n",
        "class EEGSpikingNet(nn.Module):\n",
        "    def __init__(self, T=10):\n",
        "        super().__init__()\n",
        "        self.T = T\n",
        "        self.conv1 = nn.Conv2d(21, 16, kernel_size=3, padding=1)\n",
        "        self.lif1 = neuron.LIFNode(surrogate_function=surrogate.ATan())\n",
        "        self.pool1 = nn.MaxPool2d(kernel_size=2)\n",
        "        self.conv2 = nn.Conv2d(16, 32, kernel_size=3, padding=1)\n",
        "        self.lif2 = neuron.LIFNode(surrogate_function=surrogate.ATan())\n",
        "        self.pool2 = nn.MaxPool2d(kernel_size=2)\n",
        "        self.flatten = nn.Flatten()\n",
        "        self.fc1 = nn.Linear(32 * 25 * 6, 128)\n",
        "        self.lif3 = neuron.LIFNode(surrogate_function=surrogate.ATan())\n",
        "        self.fc2 = nn.Linear(128, 1)\n",
        "        self.lif_out = neuron.LIFNode(surrogate_function=surrogate.ATan())\n",
        "\n",
        "    def forward(self, x):\n",
        "        spike_count = torch.zeros(x.size(0), 1, device=x.device)\n",
        "        for t in range(self.T):\n",
        "            out = self.conv1(x)\n",
        "            out = self.lif1(out)\n",
        "            out = self.pool1(out)\n",
        "            out = self.conv2(out)\n",
        "            out = self.lif2(out)\n",
        "            out = self.pool2(out)\n",
        "            out = self.flatten(out)\n",
        "            out = self.fc1(out)\n",
        "            out = self.lif3(out)\n",
        "            out = self.fc2(out)\n",
        "            spikes = self.lif_out(out)\n",
        "            spike_count += spikes\n",
        "        return spike_count / self.T\n",
        "\n",
        "def create_data_loaders(dataset, batch_size=128):\n",
        "    X_train_val, X_test, y_train_val, y_test = train_test_split(\n",
        "        dataset.X_tensor, dataset.y_tensor, test_size=0.2, random_state=42, stratify=dataset.y_tensor.squeeze()\n",
        "    )\n",
        "    val_ratio = 0.1 / (1 - 0.2)\n",
        "    X_train, X_val, y_train, y_val = train_test_split(\n",
        "        X_train_val, y_train_val, test_size=val_ratio, random_state=42, stratify=y_train_val.squeeze()\n",
        "    )\n",
        "\n",
        "    y_train_np = y_train.squeeze().numpy()\n",
        "    class_counts = {0: np.sum(y_train_np == 0), 1: np.sum(y_train_np == 1)}\n",
        "    total = len(y_train_np)\n",
        "    class_weights = {cls: total / (2 * count) for cls, count in class_counts.items()}\n",
        "    sample_weights = [class_weights[int(y)] for y in y_train_np]\n",
        "\n",
        "    train_sampler = WeightedRandomSampler(weights=sample_weights, num_samples=len(y_train), replacement=True)\n",
        "\n",
        "    train_loader = DataLoader(torch.utils.data.TensorDataset(X_train, y_train), batch_size=batch_size, sampler=train_sampler, num_workers=2, pin_memory=True)\n",
        "    val_loader = DataLoader(torch.utils.data.TensorDataset(X_val, y_val), batch_size=batch_size, shuffle=False, num_workers=2, pin_memory=True)\n",
        "    test_loader = DataLoader(torch.utils.data.TensorDataset(X_test, y_test), batch_size=batch_size, shuffle=False, num_workers=2, pin_memory=True)\n",
        "\n",
        "    return train_loader, val_loader, test_loader\n",
        "\n",
        "def train_model(model, train_loader, val_loader, epochs=20):\n",
        "    criterion = nn.BCELoss()\n",
        "    optimizer = optim.AdamW(model.parameters(), lr=0.001, weight_decay=1e-5)\n",
        "    scaler = GradScaler()\n",
        "\n",
        "    best_val_loss = float('inf')\n",
        "    patience = 6\n",
        "    patience_counter = 0\n",
        "    best_model_state = None\n",
        "\n",
        "    history = {'train_losses': [], 'val_losses': [], 'train_accuracies': [], 'val_accuracies': []}\n",
        "\n",
        "    start_time = time.time()\n",
        "    for epoch in range(epochs):\n",
        "        # Training\n",
        "        model.train()\n",
        "        train_loss = 0.0\n",
        "        train_correct = 0\n",
        "        train_total = 0\n",
        "        for inputs, labels in tqdm(train_loader, desc=f\"Epoch {epoch+1}/{epochs} [Train]\"):\n",
        "            inputs, labels = inputs.to(device), labels.to(device)\n",
        "            optimizer.zero_grad()\n",
        "            with autocast():\n",
        "                outputs = model(inputs)\n",
        "                loss = criterion(outputs, labels)\n",
        "            scaler.scale(loss).backward()\n",
        "            scaler.step(optimizer)\n",
        "            scaler.update()\n",
        "            train_loss += loss.item() * inputs.size(0)\n",
        "            predicted = torch.round(outputs)\n",
        "            train_correct += (predicted == labels).sum().item()\n",
        "            train_total += labels.size(0)\n",
        "            functional.reset_net(model)\n",
        "\n",
        "        epoch_train_loss = train_loss / train_total\n",
        "        epoch_train_acc = train_correct / train_total\n",
        "        history['train_losses'].append(epoch_train_loss)\n",
        "        history['train_accuracies'].append(epoch_train_acc)\n",
        "\n",
        "        # Validation\n",
        "        model.eval()\n",
        "        val_loss = 0.0\n",
        "        val_correct = 0\n",
        "        val_total = 0\n",
        "        with torch.no_grad():\n",
        "            for inputs, labels in tqdm(val_loader, desc=f\"Epoch {epoch+1}/{epochs} [Val]\"):\n",
        "                inputs, labels = inputs.to(device), labels.to(device)\n",
        "                outputs = model(inputs)\n",
        "                loss = criterion(outputs, labels)\n",
        "                val_loss += loss.item() * inputs.size(0)\n",
        "                predicted = torch.round(outputs)\n",
        "                val_correct += (predicted == labels).sum().item()\n",
        "                val_total += labels.size(0)\n",
        "                functional.reset_net(model)\n",
        "\n",
        "        epoch_val_loss = val_loss / val_total\n",
        "        epoch_val_acc = val_correct / val_total\n",
        "        history['val_losses'].append(epoch_val_loss)\n",
        "        history['val_accuracies'].append(epoch_val_acc)\n",
        "\n",
        "        print(f\"Epoch {epoch+1}/{epochs} | Train Loss: {epoch_train_loss:.4f} | Train Acc: {epoch_train_acc:.4f} | Val Loss: {epoch_val_loss:.4f} | Val Acc: {epoch_val_acc:.4f}\")\n",
        "\n",
        "        if epoch_val_loss < best_val_loss:\n",
        "            best_val_loss = epoch_val_loss\n",
        "            best_model_state = model.state_dict().copy()\n",
        "            patience_counter = 0\n",
        "        else:\n",
        "            patience_counter += 1\n",
        "\n",
        "        if patience_counter >= patience:\n",
        "            print(\"Early stopping triggered\")\n",
        "            model.load_state_dict(best_model_state)\n",
        "            break\n",
        "\n",
        "        gc.collect()\n",
        "        if torch.cuda.is_available():\n",
        "            torch.cuda.empty_cache()\n",
        "\n",
        "    if best_model_state is not None and patience_counter < patience:\n",
        "        model.load_state_dict(best_model_state)\n",
        "\n",
        "    print(f\"Training time: {(time.time() - start_time) / 60:.2f} minutes\")\n",
        "    return history\n",
        "\n",
        "def evaluate_model(model, test_loader):\n",
        "    model.eval()\n",
        "    all_predictions = []\n",
        "    all_probabilities = []\n",
        "    all_labels = []\n",
        "    with torch.no_grad():\n",
        "        for inputs, labels in tqdm(test_loader, desc=\"Evaluating\"):\n",
        "            inputs = inputs.to(device)\n",
        "            outputs = model(inputs)\n",
        "            probs = outputs.detach().cpu().numpy()\n",
        "            preds = (probs >= 0.5).astype(int)\n",
        "            all_probabilities.extend(probs.flatten())\n",
        "            all_predictions.extend(preds.flatten())\n",
        "            all_labels.extend(labels.cpu().numpy().flatten())\n",
        "            functional.reset_net(model)\n",
        "\n",
        "    accuracy = accuracy_score(all_labels, all_predictions)\n",
        "    precision = precision_score(all_labels, all_predictions, zero_division=0)\n",
        "    recall = recall_score(all_labels, all_predictions, zero_division=0)\n",
        "    f1 = f1_score(all_labels, all_predictions, zero_division=0)\n",
        "    conf_matrix = confusion_matrix(all_labels, all_predictions)\n",
        "    fpr, tpr, _ = roc_curve(all_labels, all_probabilities)\n",
        "    roc_auc = auc(fpr, tpr)\n",
        "\n",
        "    print(f\"Test Accuracy: {accuracy:.4f}\")\n",
        "    print(f\"Precision: {precision:.4f}\")\n",
        "    print(f\"Recall: {recall:.4f}\")\n",
        "    print(f\"F1 Score: {f1:.4f}\")\n",
        "    print(f\"ROC AUC: {roc_auc:.4f}\")\n",
        "    print(\"Confusion Matrix:\")\n",
        "    print(conf_matrix)\n",
        "\n",
        "    return {'accuracy': accuracy, 'precision': precision, 'recall': recall, 'f1_score': f1, 'confusion_matrix': conf_matrix, 'fpr': fpr, 'tpr': tpr, 'roc_auc': roc_auc}\n",
        "\n",
        "def plot_results(history, test_results):\n",
        "    plt.figure(figsize=(15, 10))\n",
        "\n",
        "    plt.subplot(2, 2, 1)\n",
        "    plt.plot(history['train_losses'], label='Train Loss')\n",
        "    plt.plot(history['val_losses'], label='Validation Loss')\n",
        "    plt.title('Loss Curves')\n",
        "    plt.xlabel('Epochs')\n",
        "    plt.ylabel('Loss')\n",
        "    plt.legend()\n",
        "\n",
        "    plt.subplot(2, 2, 2)\n",
        "    plt.plot(history['train_accuracies'], label='Train Accuracy')\n",
        "    plt.plot(history['val_accuracies'], label='Validation Accuracy')\n",
        "    plt.title('Accuracy Curves')\n",
        "    plt.xlabel('Epochs')\n",
        "    plt.ylabel('Accuracy')\n",
        "    plt.legend()\n",
        "\n",
        "    plt.subplot(2, 2, 3)\n",
        "    plt.plot(test_results['fpr'], test_results['tpr'], label=f'ROC curve (AUC = {test_results[\"roc_auc\"]:.2f})')\n",
        "    plt.plot([0, 1], [0, 1], 'k--')\n",
        "    plt.xlabel('False Positive Rate')\n",
        "    plt.ylabel('True Positive Rate')\n",
        "    plt.title('ROC Curve')\n",
        "    plt.legend(loc='lower right')\n",
        "\n",
        "    plt.subplot(2, 2, 4)\n",
        "    cm = test_results['confusion_matrix']\n",
        "    plt.imshow(cm, interpolation='nearest', cmap=plt.cm.Blues)\n",
        "    plt.title('Confusion Matrix')\n",
        "    plt.colorbar()\n",
        "    tick_marks = np.arange(2)\n",
        "    plt.xticks(tick_marks, ['No Seizure', 'Seizure'], rotation=45)\n",
        "    plt.yticks(tick_marks, ['No Seizure', 'Seizure'])\n",
        "    thresh = cm.max() / 2\n",
        "    for i in range(cm.shape[0]):\n",
        "        for j in range(cm.shape[1]):\n",
        "            plt.text(j, i, f\"{cm[i, j]}\", horizontalalignment=\"center\", color=\"white\" if cm[i, j] > thresh else \"black\")\n",
        "\n",
        "    plt.tight_layout()\n",
        "    plt.savefig('/content/improved_results.png', dpi=150)\n",
        "    plt.show()\n",
        "\n",
        "def main():\n",
        "    dataset = OptimizedEEGDataset(data_dir=data_dir)\n",
        "    train_loader, val_loader, test_loader = create_data_loaders(dataset, batch_size=128)\n",
        "    model = EEGSpikingNet(T=10).to(device)\n",
        "    print(model)\n",
        "    param_count = sum(p.numel() for p in model.parameters() if p.requires_grad)\n",
        "    print(f\"Model has {param_count:,} trainable parameters\")\n",
        "\n",
        "    history = train_model(model, train_loader, val_loader, epochs=20)\n",
        "    test_results = evaluate_model(model, test_loader)\n",
        "    plot_results(history, test_results)\n",
        "\n",
        "    save_path = '/content/drive/MyDrive/eeg_improved_model.pth'\n",
        "    torch.save({'model_state_dict': model.state_dict(), 'history': history, 'test_results': test_results}, save_path)\n",
        "    print(f\"Model saved to {save_path}\")\n",
        "\n",
        "if __name__ == \"__main__\":\n",
        "    main()"
      ],
      "execution_count": null,
      "outputs": [
        {
          "output_type": "stream",
          "name": "stdout",
          "text": [
            "Using GPU: Tesla T4\n",
            "Found 76 .npz files\n",
            "Using 76 files\n",
            "Loading data...\n"
          ]
        },
        {
          "output_type": "stream",
          "name": "stderr",
          "text": [
            " 82%|████████▏ | 62/76 [01:51<00:28,  2.03s/it]"
          ]
        }
      ]
    }
  ]
}